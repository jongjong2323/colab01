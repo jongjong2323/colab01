{
  "nbformat": 4,
  "nbformat_minor": 0,
  "metadata": {
    "colab": {
      "provenance": [],
      "mount_file_id": "1kndxt5VZqd83RTbF4bhUl0Ga72HenXUj",
      "authorship_tag": "ABX9TyMzofoHGWcaeyhHyH3CqOu8",
      "include_colab_link": true
    },
    "kernelspec": {
      "name": "python3",
      "display_name": "Python 3"
    },
    "language_info": {
      "name": "python"
    }
  },
  "cells": [
    {
      "cell_type": "markdown",
      "metadata": {
        "id": "view-in-github",
        "colab_type": "text"
      },
      "source": [
        "<a href=\"https://colab.research.google.com/github/jongjong2323/colab01/blob/main/djch_test.ipynb\" target=\"_parent\"><img src=\"https://colab.research.google.com/assets/colab-badge.svg\" alt=\"Open In Colab\"/></a>"
      ]
    },
    {
      "cell_type": "code",
      "execution_count": 1,
      "metadata": {
        "colab": {
          "base_uri": "https://localhost:8080/"
        },
        "id": "mKIUqEGGpxtq",
        "outputId": "a4dfab94-9bc0-456e-936b-acd56ee9d0f7"
      },
      "outputs": [
        {
          "output_type": "stream",
          "name": "stdout",
          "text": [
            "5050\n"
          ]
        }
      ],
      "source": [
        "# 1부터 100까지의 숫자를 파일에 저장합니다.\n",
        "with open('numbers.txt', 'w') as file:\n",
        "    for i in range(1, 101):\n",
        "        file.write(str(i) + '\\n')\n",
        "\n",
        "# 파일에서 숫자를 읽어와 1부터 10000까지의 합을 구합니다.\n",
        "total = 0\n",
        "with open('numbers.txt', 'r') as file:\n",
        "    for line in file:\n",
        "        number = int(line.strip())\n",
        "        if number <= 10000:\n",
        "            total += number\n",
        "\n",
        "# 결과를 출력합니다.\n",
        "print(total)\n"
      ]
    },
    {
      "cell_type": "code",
      "source": [],
      "metadata": {
        "id": "adW4w6I-qsAj"
      },
      "execution_count": null,
      "outputs": []
    }
  ]
}