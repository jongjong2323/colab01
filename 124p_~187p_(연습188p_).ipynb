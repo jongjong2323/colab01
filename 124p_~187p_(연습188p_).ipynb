{
  "nbformat": 4,
  "nbformat_minor": 0,
  "metadata": {
    "colab": {
      "provenance": [],
      "authorship_tag": "ABX9TyMB6ayp64Yhzauh+fRBBT1A",
      "include_colab_link": true
    },
    "kernelspec": {
      "name": "python3",
      "display_name": "Python 3"
    },
    "language_info": {
      "name": "python"
    }
  },
  "cells": [
    {
      "cell_type": "markdown",
      "metadata": {
        "id": "view-in-github",
        "colab_type": "text"
      },
      "source": [
        "<a href=\"https://colab.research.google.com/github/jongjong2323/colab01/blob/main/124p_~187p_(%EC%97%B0%EC%8A%B5188p_).ipynb\" target=\"_parent\"><img src=\"https://colab.research.google.com/assets/colab-badge.svg\" alt=\"Open In Colab\"/></a>"
      ]
    },
    {
      "cell_type": "code",
      "execution_count": null,
      "metadata": {
        "colab": {
          "base_uri": "https://localhost:8080/"
        },
        "id": "Tln9D-jcW3NA",
        "outputId": "c72cbe44-af42-4dd4-cb6a-32467eb6a5e5"
      },
      "outputs": [
        {
          "output_type": "stream",
          "name": "stdout",
          "text": [
            "15\n"
          ]
        }
      ],
      "source": [
        "import numpy as np\n",
        "a=np.array([1,2,3,5,4])  #a1부터 a5까지\n",
        "y=np.sum(a)  #총합\n",
        "print(y)\n",
        "#Numpy의 sum()함수로 총합을 구한다"
      ]
    },
    {
      "cell_type": "code",
      "source": [
        "import numpy as np\n",
        "print(np.e)  #네이피어 수\n",
        "print(np.exp(1))  #e의 1승\n",
        "#Numpy로 네이피어 수를 얻는다"
      ],
      "metadata": {
        "colab": {
          "base_uri": "https://localhost:8080/"
        },
        "id": "eDZmBkQdXbpc",
        "outputId": "6502feca-bae6-48c7-d857-48f45489e851"
      },
      "execution_count": null,
      "outputs": [
        {
          "output_type": "stream",
          "name": "stdout",
          "text": [
            "2.718281828459045\n",
            "2.718281828459045\n"
          ]
        }
      ]
    },
    {
      "cell_type": "code",
      "source": [
        "import numpy as np\n",
        "print(np.log(np.e))   #네이피어 수의 자연대수\n",
        "print(np.log(np.exp(2)))   #네이피어 수의 2승의 자연대수\n",
        "print(np.log(np.exp(12)))   #네이피어 수의 12승의 자연대수\n",
        "#Numpy로 자연대수를 계산한다다"
      ],
      "metadata": {
        "colab": {
          "base_uri": "https://localhost:8080/"
        },
        "id": "0l_fqjEZX-3Y",
        "outputId": "5d269083-67f3-4f22-c126-71b31271c491"
      },
      "execution_count": null,
      "outputs": [
        {
          "output_type": "stream",
          "name": "stdout",
          "text": [
            "1.0\n",
            "2.0\n",
            "12.0\n"
          ]
        }
      ]
    },
    {
      "cell_type": "code",
      "source": [
        "import numpy as np \n",
        "import matplotlib.pyplot as plt\n",
        "def step_function(x):\n",
        "  return np.where(x<=0,0,1)   #0이하의 경우는 0, ->그 밖의 경우는 1을 반환한다\n",
        "x=np.linspace(-5,5)\n",
        "y=step_function(x)\n",
        "plt.plot(x,y)\n",
        "plt.show()\n",
        "#스텝 함수"
      ],
      "metadata": {
        "colab": {
          "base_uri": "https://localhost:8080/",
          "height": 265
        },
        "id": "RMlB7sAMX-vt",
        "outputId": "30713426-3340-4e4b-8bb1-1fe4b1cea75f"
      },
      "execution_count": null,
      "outputs": [
        {
          "output_type": "display_data",
          "data": {
            "text/plain": [
              "<Figure size 432x288 with 1 Axes>"
            ],
            "image/png": "[encoded data removed]"
          },
          "metadata": {
            "needs_background": "light"
          }
        }
      ]
    },
    {
      "cell_type": "code",
      "source": [
        "import numpy as np\n",
        "import matplotlib.pylab as plt\n",
        "def sigmoid_function(x):\n",
        "  return 1/(1+np.exp(-x))\n",
        "x=np.linspace(-5,5)\n",
        "y=sigmoid_function(x)\n",
        "plt.plot(x,y)\n",
        "plt.show()\n",
        "#시그모이드 함수"
      ],
      "metadata": {
        "colab": {
          "base_uri": "https://localhost:8080/",
          "height": 265
        },
        "id": "m2GCVd89X-om",
        "outputId": "a32298c4-98ea-415f-9199-963a6bc7b518"
      },
      "execution_count": null,
      "outputs": [
        {
          "output_type": "display_data",
          "data": {
            "text/plain": [
              "<Figure size 432x288 with 1 Axes>"
            ],
            "image/png": "[encoded data removed]"
          },
          "metadata": {
            "needs_background": "light"
          }
        }
      ]
    },
    {
      "cell_type": "code",
      "source": [
        "import numpy as np\n",
        "import matplotlib.pylab as plot\n",
        "def tanh_function(x):\n",
        "  return np.tanh(x)\n",
        "x=np.linspace(-5,5)\n",
        "y=tanh_function(x)\n",
        "plt.plot(x,y)\n",
        "plt.show()\n",
        "#tanh()함수"
      ],
      "metadata": {
        "colab": {
          "base_uri": "https://localhost:8080/",
          "height": 265
        },
        "id": "YMirHOkOX-he",
        "outputId": "9a70c15c-7584-4e36-aede-65fbec6be799"
      },
      "execution_count": null,
      "outputs": [
        {
          "output_type": "display_data",
          "data": {
            "text/plain": [
              "<Figure size 432x288 with 1 Axes>"
            ],
            "image/png": "[encoded data removed]"
          },
          "metadata": {
            "needs_background": "light"
          }
        }
      ]
    },
    {
      "cell_type": "code",
      "source": [
        "import numpy as np\n",
        "import matplotlib.pylab as plt\n",
        "def relu_function(x):\n",
        "  return np.where(x<=0,0,x)\n",
        "x=np.linspace(-5,5)\n",
        "y=relu_function(x)\n",
        "plt.plot(x,y)\n",
        "plt.show()\n",
        "#ReLU()함수\n"
      ],
      "metadata": {
        "colab": {
          "base_uri": "https://localhost:8080/",
          "height": 265
        },
        "id": "bylEnPz8X-aN",
        "outputId": "4aa2c862-757a-40ca-beac-402ae2c5a408"
      },
      "execution_count": null,
      "outputs": [
        {
          "output_type": "display_data",
          "data": {
            "text/plain": [
              "<Figure size 432x288 with 1 Axes>"
            ],
            "image/png": "[encoded data removed]"
          },
          "metadata": {
            "needs_background": "light"
          }
        }
      ]
    },
    {
      "cell_type": "code",
      "source": [
        "import numpy as np\n",
        "import matplotlib.pylab as plt\n",
        "x=np.linspace(-5,5)\n",
        "y=x\n",
        "plt.plot(x,y)\n",
        "plt.show()\n",
        "#항등 함수"
      ],
      "metadata": {
        "colab": {
          "base_uri": "https://localhost:8080/",
          "height": 265
        },
        "id": "WDXTwlCuX-UH",
        "outputId": "340352cc-d671-48d2-ba90-6c81f9872cb7"
      },
      "execution_count": null,
      "outputs": [
        {
          "output_type": "display_data",
          "data": {
            "text/plain": [
              "<Figure size 432x288 with 1 Axes>"
            ],
            "image/png": "[encoded data removed]"
          },
          "metadata": {
            "needs_background": "light"
          }
        }
      ]
    },
    {
      "cell_type": "code",
      "source": [
        "import numpy as np\n",
        "def softmax_function(x):\n",
        "  return np.exp(x)/np.sum(np.exp(x))  #소프트맥스 함수\n",
        "#소프트맥스 함수"
      ],
      "metadata": {
        "id": "i7hv94rqc-hm"
      },
      "execution_count": null,
      "outputs": []
    },
    {
      "cell_type": "code",
      "source": [
        "y=softmax_function(np.array([1,2,3]))\n",
        "print(y)\n",
        "#softmax_function() 함수를 실행"
      ],
      "metadata": {
        "colab": {
          "base_uri": "https://localhost:8080/"
        },
        "id": "Ag69_MJfc-cL",
        "outputId": "61c67931-c058-4dca-fe59-5796235f9118"
      },
      "execution_count": null,
      "outputs": [
        {
          "output_type": "stream",
          "name": "stdout",
          "text": [
            "[0.09003057 0.24472847 0.66524096]\n"
          ]
        }
      ]
    },
    {
      "cell_type": "code",
      "source": [
        "a=3\n",
        "b=1.5\n",
        "c=-0.24\n",
        "d=1.4e5  #1.4의 5승 140000(네이피어 수는 관계 없음)\n",
        "#다양한 스칼라의 예"
      ],
      "metadata": {
        "id": "jgjm9HR4c-X0"
      },
      "execution_count": null,
      "outputs": []
    },
    {
      "cell_type": "code",
      "source": [
        "import numpy as np\n",
        "a=np.array([3,2,1])\n",
        "print(a)\n",
        "b=np.array([-2.3,0.25,-1.2,1.8,0.41])\n",
        "print(b)\n",
        "#Numpy를 사용해서 백터를 나타낸다"
      ],
      "metadata": {
        "colab": {
          "base_uri": "https://localhost:8080/"
        },
        "id": "Ba1kYykIc-Te",
        "outputId": "c7b27b70-3721-45c1-be70-3a72a1bc4867"
      },
      "execution_count": null,
      "outputs": [
        {
          "output_type": "stream",
          "name": "stdout",
          "text": [
            "[3 2 1]\n",
            "[-2.3   0.25 -1.2   1.8   0.41]\n"
          ]
        }
      ]
    },
    {
      "cell_type": "code",
      "source": [
        "import numpy as np\n",
        "a=np.array([[1,0,5],[4,3,2]])  #2x3의 행렬\n",
        "print(a)\n",
        "b=np.array([[1.2,0.18],[2.3,-0.31],[0.42,-4.5]])   #3x2의 행렬\n",
        "print(b)\n",
        "#Numpy를 사용하여 행렬을 나타낸다\n"
      ],
      "metadata": {
        "colab": {
          "base_uri": "https://localhost:8080/"
        },
        "id": "KjPJidzZc-OZ",
        "outputId": "b95a40e4-db60-4f7f-af3b-cc8f2afcc955"
      },
      "execution_count": null,
      "outputs": [
        {
          "output_type": "stream",
          "name": "stdout",
          "text": [
            "[[1 0 5]\n",
            " [4 3 2]]\n",
            "[[ 1.2   0.18]\n",
            " [ 2.3  -0.31]\n",
            " [ 0.42 -4.5 ]]\n"
          ]
        }
      ]
    },
    {
      "cell_type": "code",
      "source": [
        "import numpy as np\n",
        "a=np.array([[0,1,2],[2,1,0]])   #2x3의 행렬\n",
        "b=np.array([[1,2],[1,2],[1,2]])  #3x2의 행렬\n",
        "print(np.dot(a,b))\n",
        "#Numpy를 사용한 행렬곱의 계산"
      ],
      "metadata": {
        "colab": {
          "base_uri": "https://localhost:8080/"
        },
        "id": "gNag-H4RflA9",
        "outputId": "ad41a437-0876-4238-e27c-78479ca6a8c6"
      },
      "execution_count": null,
      "outputs": [
        {
          "output_type": "stream",
          "name": "stdout",
          "text": [
            "[[3 6]\n",
            " [3 6]]\n"
          ]
        }
      ]
    },
    {
      "cell_type": "code",
      "source": [
        "import numpy as np\n",
        "a=np.array([[1,2,3],[4,5,6],[7,8,9]])   #3x3의 행렬\n",
        "b=np.array([[0,1,1],[1,0,1],[1,1,0]])   #3x3의 행렬\n",
        "print(a*b)\n",
        "#Numpy를 사용한 요소별 곱의 계산\n"
      ],
      "metadata": {
        "colab": {
          "base_uri": "https://localhost:8080/"
        },
        "id": "yET72Splfk9x",
        "outputId": "0ffec6b0-d222-4c86-b4bb-e7c9fda0aa36"
      },
      "execution_count": null,
      "outputs": [
        {
          "output_type": "stream",
          "name": "stdout",
          "text": [
            "[[0 2 3]\n",
            " [4 0 6]\n",
            " [7 8 0]]\n"
          ]
        }
      ]
    },
    {
      "cell_type": "code",
      "source": [
        "import numpy as np\n",
        "a=np.array([[1,2,3],[4,5,6]])   #2x3의 행렬\n",
        "print(a.T)   #전치\n",
        "#Numpy를 사용한 전치의 예예"
      ],
      "metadata": {
        "colab": {
          "base_uri": "https://localhost:8080/"
        },
        "id": "NVBGYBH7fk5h",
        "outputId": "df2e62e3-9a18-4202-8dae-4d89f773774e"
      },
      "execution_count": null,
      "outputs": [
        {
          "output_type": "stream",
          "name": "stdout",
          "text": [
            "[[1 4]\n",
            " [2 5]\n",
            " [3 6]]\n"
          ]
        }
      ]
    },
    {
      "cell_type": "code",
      "source": [
        "import numpy as np\n",
        "def square_sum(y,t):\n",
        "  return 1.0/2.0 * np.sum(np.square(y-t))  #오차 재곱합\n",
        "  #오차 제곱합을 계산하는 함수\n",
        "  "
      ],
      "metadata": {
        "id": "9RI8z9IXfk0s"
      },
      "execution_count": null,
      "outputs": []
    },
    {
      "cell_type": "code",
      "source": [
        "y=np.array([3,3,3,3,3])  #출력\n",
        "t=np.array([2,2,2,2,2])  #정답\n",
        "print(square_sum(y,t))\n",
        "#오차 제곱합을 계산한다"
      ],
      "metadata": {
        "colab": {
          "base_uri": "https://localhost:8080/"
        },
        "id": "Q3hSTfq6fkus",
        "outputId": "aa16a1dd-c783-45bb-fcf5-d5b4c0517d10"
      },
      "execution_count": null,
      "outputs": [
        {
          "output_type": "stream",
          "name": "stdout",
          "text": [
            "2.5\n"
          ]
        }
      ]
    },
    {
      "cell_type": "code",
      "source": [
        "import numpy as np\n",
        "import matplotlib.pyplot as plt\n",
        "x=np.linspace(-0.01,1)   #0은 취할 수 없다\n",
        "y=-np.log(x)  #-log x\n",
        "plt.xlabel(\"x\")\n",
        "plt.xlabel(\"y\")\n",
        "plt.plot(x,y)\n",
        "plt.show()\n",
        "#교차 엔트로피 오차 그리기\n"
      ],
      "metadata": {
        "colab": {
          "base_uri": "https://localhost:8080/",
          "height": 315
        },
        "id": "yQxAkE8PiPHQ",
        "outputId": "f69df77c-f31b-421c-a068-b398e35e693a"
      },
      "execution_count": null,
      "outputs": [
        {
          "output_type": "stream",
          "name": "stderr",
          "text": [
            "<ipython-input-23-778b3518ef85>:4: RuntimeWarning: invalid value encountered in log\n",
            "  y=-np.log(x)  #-log x\n"
          ]
        },
        {
          "output_type": "display_data",
          "data": {
            "text/plain": [
              "<Figure size 432x288 with 1 Axes>"
            ],
            "image/png": "[encoded data removed]"
          },
          "metadata": {
            "needs_background": "light"
          }
        }
      ]
    },
    {
      "cell_type": "code",
      "source": [
        "import numpy as np\n",
        "def cross_entropy(y,t):  #출력, 정답\n",
        "    return - np.sum(t*np.log(y+1e-7))\n",
        "#교차 엔트로피 오차의 계산을 하는 함수"
      ],
      "metadata": {
        "id": "mICwFLyBiPCd"
      },
      "execution_count": null,
      "outputs": []
    },
    {
      "cell_type": "code",
      "source": [
        "y=np.array([0.05,0.9,0.02,0.02,0.01])   #출력\n",
        "t=np.array([0,1,0,0,0])   #정답\n",
        "print(cross_entropy(y,t))\n",
        "#교차 엔트로피 오차를 계산한다"
      ],
      "metadata": {
        "colab": {
          "base_uri": "https://localhost:8080/"
        },
        "id": "Zn2YVc2XiO9q",
        "outputId": "f9dfd894-0f96-4e14-b003-7ecf4c4392bf"
      },
      "execution_count": null,
      "outputs": [
        {
          "output_type": "stream",
          "name": "stdout",
          "text": [
            "0.1053604045467214\n"
          ]
        }
      ]
    },
    {
      "cell_type": "code",
      "source": [],
      "metadata": {
        "id": "lMs4s8pkiO45"
      },
      "execution_count": null,
      "outputs": []
    },
    {
      "cell_type": "code",
      "source": [],
      "metadata": {
        "id": "y-pxV91aiOzj"
      },
      "execution_count": null,
      "outputs": []
    }
  ]
}