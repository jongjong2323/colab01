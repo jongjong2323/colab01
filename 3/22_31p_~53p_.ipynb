{
  "nbformat": 4,
  "nbformat_minor": 0,
  "metadata": {
    "colab": {
      "provenance": [],
      "authorship_tag": "ABX9TyPLrC6G5qZWg9DjDxBwHv9g",
      "include_colab_link": true
    },
    "kernelspec": {
      "name": "python3",
      "display_name": "Python 3"
    },
    "language_info": {
      "name": "python"
    }
  },
  "cells": [
    {
      "cell_type": "markdown",
      "metadata": {
        "id": "view-in-github",
        "colab_type": "text"
      },
      "source": [
        "<a href=\"https://colab.research.google.com/github/jongjong2323/colab01/blob/main/3/22_31p_~53p_.ipynb\" target=\"_parent\"><img src=\"https://colab.research.google.com/assets/colab-badge.svg\" alt=\"Open In Colab\"/></a>"
      ]
    },
    {
      "cell_type": "code",
      "execution_count": null,
      "metadata": {
        "id": "D8SUv6aSwWUL"
      },
      "outputs": [],
      "source": [
        "a = 123\n",
        "#변수에 값을 대입한다"
      ]
    },
    {
      "cell_type": "code",
      "source": [
        "a = 123 #정수형(int)\n",
        "b = 123.456 #부동소수점형(float)\n",
        "c = \"hello world!\" #문자형(str)\n",
        "d = True #논리형(bool)\n",
        "e = [1,2,3,] #리스트형(list)\n",
        "#변수에 다양한 값을 대입한다"
      ],
      "metadata": {
        "id": "oukJ9Izrxwr5"
      },
      "execution_count": null,
      "outputs": []
    },
    {
      "cell_type": "code",
      "source": [
        " a = True; b = False;\n",
        " print(a+b)\n",
        " #변수에 bool값을 대입하고 연산을 실시한다"
      ],
      "metadata": {
        "id": "n_5m1-Bjxwvk",
        "colab": {
          "base_uri": "https://localhost:8080/"
        },
        "outputId": "0b4e5baf-0353-4c1f-d8f0-3e40a1fc8939"
      },
      "execution_count": null,
      "outputs": [
        {
          "output_type": "stream",
          "name": "stdout",
          "text": [
            "1\n"
          ]
        }
      ]
    },
    {
      "cell_type": "code",
      "source": [
        "1.5e6 #1.5x10의 6승 1500000\n",
        "1.5e-6 #1.5x10의 -6승 0.0000015\n",
        "#지수 표기로 부동소수점형의 값을 표시한다"
      ],
      "metadata": {
        "id": "c-sGCSjHxwz1",
        "colab": {
          "base_uri": "https://localhost:8080/"
        },
        "outputId": "2f39f9cb-8b02-44b0-cd91-9793969d4850"
      },
      "execution_count": null,
      "outputs": [
        {
          "output_type": "execute_result",
          "data": {
            "text/plain": [
              "1.5e-06"
            ]
          },
          "metadata": {},
          "execution_count": 14
        }
      ]
    },
    {
      "cell_type": "code",
      "source": [
        "a = 3; b=5 \n",
        "c=a+b  #덧셈\n",
        "print(c)\n",
        "d=a<b #비교(a는 b보다 작은가)\n",
        "print(d)\n",
        "e= 3<4 and 4<5 #논리곱\n",
        "print(e)\n",
        "#변수로 다양한 연산을 실시한다"
      ],
      "metadata": {
        "id": "CWjdYjLqxw3o",
        "colab": {
          "base_uri": "https://localhost:8080/"
        },
        "outputId": "700cf1f6-287f-493b-a68b-d019adc32539"
      },
      "execution_count": null,
      "outputs": [
        {
          "output_type": "stream",
          "name": "stdout",
          "text": [
            "8\n",
            "True\n",
            "True\n"
          ]
        }
      ]
    },
    {
      "cell_type": "code",
      "source": [
        "a = [1,2,3,4,5] #리스트의 작성\n",
        "b = a[3] #인덱스가 3인 요소를 흭득\n",
        "print(b)\n",
        "a.append(6) #끝에 요소를 추가\n",
        "print(a)\n",
        "a[2] = 99 #요소를 교체한다\n",
        "print(a)\n",
        "#변수로 다양한 연산을 실시한다"
      ],
      "metadata": {
        "id": "_g8-9RPOxw7G",
        "colab": {
          "base_uri": "https://localhost:8080/"
        },
        "outputId": "41867b9b-8ba3-4b61-c3fb-ae4df624344d"
      },
      "execution_count": null,
      "outputs": [
        {
          "output_type": "stream",
          "name": "stdout",
          "text": [
            "4\n",
            "[1, 2, 3, 4, 5, 6]\n",
            "[1, 2, 99, 4, 5, 6]\n"
          ]
        }
      ]
    },
    {
      "cell_type": "code",
      "source": [
        "a=(1,2,3,4,5) #튜플의 작성\n",
        "b = a[2] #인덱스가 2인 요소를 취득\n",
        "print(b)\n",
        "#튜플의 작성과 요소의 취득\n"
      ],
      "metadata": {
        "id": "k9hAr1Ksxw-J",
        "colab": {
          "base_uri": "https://localhost:8080/"
        },
        "outputId": "f3c9fb77-ab10-49d9-8b98-1c00ebfa0b8f"
      },
      "execution_count": null,
      "outputs": [
        {
          "output_type": "stream",
          "name": "stdout",
          "text": [
            "3\n"
          ]
        }
      ]
    },
    {
      "cell_type": "code",
      "source": [
        "a = [1,2,3]  #리스트\n",
        "a1,a2,a3 = a\n",
        "print(a1,a2,a3)\n",
        "b=(4,5,6) #튜플\n",
        "b1,b2,b3 = b\n",
        "print(b1,b2,b3)\n",
        "#리스트, 튜플의 요소를 한번에 변수에 대입한다"
      ],
      "metadata": {
        "id": "f-AzxQk82gZp",
        "colab": {
          "base_uri": "https://localhost:8080/"
        },
        "outputId": "7231befa-e475-418c-cb0f-7b2a905196bb"
      },
      "execution_count": 20,
      "outputs": [
        {
          "output_type": "stream",
          "name": "stdout",
          "text": [
            "1 2 3\n",
            "4 5 6\n"
          ]
        }
      ]
    },
    {
      "cell_type": "code",
      "source": [
        "a = {\"Artificial\":1,\"Intelligence\":2} #사전의 작성\n",
        "print(a[\"Artificial\"]) #\"Artificial\" 키를 가진 값을 취득\n",
        "a[\"Intelligence\"]= 7 #값의 교체\n",
        "print(a)\n",
        "a[\"ML\"] = 3 #요소의 추가\n",
        "print(a)\n",
        "#사전의 사용 예"
      ],
      "metadata": {
        "id": "zP9MzyDi2ggp",
        "colab": {
          "base_uri": "https://localhost:8080/"
        },
        "outputId": "6626706c-59f9-41c6-c3b1-6bd757afe08f"
      },
      "execution_count": 21,
      "outputs": [
        {
          "output_type": "stream",
          "name": "stdout",
          "text": [
            "1\n",
            "{'Artificial': 1, 'Intelligence': 7}\n",
            "{'Artificial': 1, 'Intelligence': 7, 'ML': 3}\n"
          ]
        }
      ]
    },
    {
      "cell_type": "code",
      "source": [
        "a = [1,1,2,3,4,4,5,5,5] #리스트\n",
        "print(a)\n",
        "b = set(a) #세트로 변환\n",
        "print(b)\n",
        "b.add(6) #값을 추가\n",
        "print(b)\n",
        "b.remove(3) #값을 삭제\n",
        "print(b)\n",
        "#세트의 기본적인 사용법의 예"
      ],
      "metadata": {
        "id": "alqnX4nJ2gmQ",
        "colab": {
          "base_uri": "https://localhost:8080/"
        },
        "outputId": "513db59a-caa0-4ab1-e623-abb77715d876"
      },
      "execution_count": 22,
      "outputs": [
        {
          "output_type": "stream",
          "name": "stdout",
          "text": [
            "[1, 1, 2, 3, 4, 4, 5, 5, 5]\n",
            "{1, 2, 3, 4, 5}\n",
            "{1, 2, 3, 4, 5, 6}\n",
            "{1, 2, 4, 5, 6}\n"
          ]
        }
      ]
    },
    {
      "cell_type": "code",
      "source": [
        "a = 13\n",
        "if a<12:\n",
        "  print(\"Good morning!\")\n",
        "elif a<17:\n",
        "  print(\"Good aftermoon!\")\n",
        "elif a<21:\n",
        "  print(\"Good evening!\")\n",
        "else:\n",
        "  print(\"Good night!\")\n",
        "#if문의 사용법의 예"
      ],
      "metadata": {
        "id": "WoIS85oR2gr2",
        "colab": {
          "base_uri": "https://localhost:8080/"
        },
        "outputId": "8feb9894-cf71-419e-9477-f36418a68672"
      },
      "execution_count": 23,
      "outputs": [
        {
          "output_type": "stream",
          "name": "stdout",
          "text": [
            "Good aftermoon!\n"
          ]
        }
      ]
    },
    {
      "cell_type": "code",
      "source": [
        "for a in [3,5,9,17]: #리스트를 사용한 for문\n",
        "    print(a)\n",
        "for a in range(5): #range를 사용한 for 문\n",
        "    print(a)\n",
        "    #for 문 사용법의 예\n"
      ],
      "metadata": {
        "id": "x_qJwOZV2gvg",
        "colab": {
          "base_uri": "https://localhost:8080/"
        },
        "outputId": "214fe237-bb0f-4f47-9142-538c11900c44"
      },
      "execution_count": 27,
      "outputs": [
        {
          "output_type": "stream",
          "name": "stdout",
          "text": [
            "3\n",
            "5\n",
            "9\n",
            "17\n",
            "0\n",
            "1\n",
            "2\n",
            "3\n",
            "4\n"
          ]
        }
      ]
    },
    {
      "cell_type": "code",
      "source": [
        "a = 0\n",
        "while a<3: #a가3보다 작은 동안 반복 처리\n",
        "    print(a)\n",
        "    a +=1\n",
        "   #while문 사용법의 예"
      ],
      "metadata": {
        "id": "PvyeWF8R2g0g",
        "colab": {
          "base_uri": "https://localhost:8080/"
        },
        "outputId": "8ae6e839-d82e-4f57-84c8-71fea805b1f8"
      },
      "execution_count": 28,
      "outputs": [
        {
          "output_type": "stream",
          "name": "stdout",
          "text": [
            "0\n",
            "1\n",
            "2\n"
          ]
        }
      ]
    },
    {
      "cell_type": "code",
      "source": [
        "a= [1,2,3,4,5,6,7]\n",
        "b= [c*2+1 for c in a] #a의 요소를 2배하고 1을 더해 새로운 리스트를 만든다\n",
        "print(b)\n",
        "#내포 표기 사용법의 예"
      ],
      "metadata": {
        "id": "luiJH_FS2g3_",
        "colab": {
          "base_uri": "https://localhost:8080/"
        },
        "outputId": "89c24a4d-0649-4907-d9dc-36e3db27463e"
      },
      "execution_count": 29,
      "outputs": [
        {
          "output_type": "stream",
          "name": "stdout",
          "text": [
            "[3, 5, 7, 9, 11, 13, 15]\n"
          ]
        }
      ]
    },
    {
      "cell_type": "code",
      "source": [
        "def add(a,b): #함수의 정의(add가 함수명)\n",
        "    c = a+b\n",
        "    return c\n",
        "print(add(2,3))  #함수의 실행\n",
        "#함수의 정의와 실행"
      ],
      "metadata": {
        "id": "e1zt2iVy2g8J",
        "colab": {
          "base_uri": "https://localhost:8080/"
        },
        "outputId": "3199b68c-9aff-44ce-e223-7a90f9c7f71c"
      },
      "execution_count": 30,
      "outputs": [
        {
          "output_type": "stream",
          "name": "stdout",
          "text": [
            "5\n"
          ]
        }
      ]
    },
    {
      "cell_type": "code",
      "source": [
        "def add(a,b=4): #두 번째 인수에 기본값을 설정\n",
        "    c=a+b\n",
        "    return c\n",
        "print(add(3))  #두 번째 인수는 지정하지 않는다\n",
        "#함수와 인수"
      ],
      "metadata": {
        "colab": {
          "base_uri": "https://localhost:8080/"
        },
        "id": "qm4p5r5k6oVM",
        "outputId": "3d902e50-edf3-4daa-bfbd-3a0aa428eeb7"
      },
      "execution_count": 31,
      "outputs": [
        {
          "output_type": "stream",
          "name": "stdout",
          "text": [
            "7\n"
          ]
        }
      ]
    },
    {
      "cell_type": "code",
      "source": [
        "def add(a,b,c):\n",
        "    d = a+b+c\n",
        "    print(d)\n",
        "e=(2,4,6)\n",
        "add(*e)   #여러개의 인수를 한번에 전달한다\n",
        "#함수에 튜플형의 인수를 대입"
      ],
      "metadata": {
        "colab": {
          "base_uri": "https://localhost:8080/"
        },
        "id": "sDasrCss7Fae",
        "outputId": "9bb87da8-6410-420b-ab92-ce125745aa13"
      },
      "execution_count": 32,
      "outputs": [
        {
          "output_type": "stream",
          "name": "stdout",
          "text": [
            "12\n"
          ]
        }
      ]
    },
    {
      "cell_type": "code",
      "source": [
        "a = 21 #전역 변수\n",
        "def showNumbers():\n",
        "  b=43      #지역 변수\n",
        "  print(a,b)\n",
        "showNumbers()\n",
        "#전역 변수와 지역 변수의 범위"
      ],
      "metadata": {
        "colab": {
          "base_uri": "https://localhost:8080/"
        },
        "id": "4Ee17d7b7jmi",
        "outputId": "2b1907d8-4284-4f83-c9c4-d63000421747"
      },
      "execution_count": 33,
      "outputs": [
        {
          "output_type": "stream",
          "name": "stdout",
          "text": [
            "21 43\n"
          ]
        }
      ]
    }
  ]
}