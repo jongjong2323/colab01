{
  "nbformat": 4,
  "nbformat_minor": 0,
  "metadata": {
    "colab": {
      "provenance": [],
      "authorship_tag": "ABX9TyOcqeqXvfC0IEfaSEkePZVi",
      "include_colab_link": true
    },
    "kernelspec": {
      "name": "python3",
      "display_name": "Python 3"
    },
    "language_info": {
      "name": "python"
    }
  },
  "cells": [
    {
      "cell_type": "markdown",
      "metadata": {
        "id": "view-in-github",
        "colab_type": "text"
      },
      "source": [
        "<a href=\"https://colab.research.google.com/github/jongjong2323/colab01/blob/main/3/23_54p_~72p_.ipynb\" target=\"_parent\"><img src=\"https://colab.research.google.com/assets/colab-badge.svg\" alt=\"Open In Colab\"/></a>"
      ]
    },
    {
      "cell_type": "code",
      "execution_count": null,
      "metadata": {
        "colab": {
          "base_uri": "https://localhost:8080/"
        },
        "id": "ATzHZkDRIMyj",
        "outputId": "3f74ce25-7351-46dd-8be3-c4c14e4242ad"
      },
      "outputs": [
        {
          "output_type": "stream",
          "name": "stdout",
          "text": [
            "Local: 43\n",
            "Global: 21\n"
          ]
        }
      ],
      "source": [
        "a = 21\n",
        "def setLocalNumber():\n",
        "  a = 43 #a는 지역 변수로 간주된다\n",
        "  print(\"Local:\",a)\n",
        "setLocalNumber()\n",
        "print(\"Global:\",a)\n",
        "#전역 변수와 지역변수의 성질"
      ]
    },
    {
      "cell_type": "code",
      "source": [
        "a=3\n",
        "def setGlobalNumber():\n",
        "  global a #전역 변수임을 명기\n",
        "  a=43\n",
        "  print(\"Global:\",a)\n",
        "setGlobalNumber()\n",
        "print(\"Global:\",a)\n",
        "#전역 변수임을 명기한다\n"
      ],
      "metadata": {
        "colab": {
          "base_uri": "https://localhost:8080/"
        },
        "id": "1pTBz4-SItSf",
        "outputId": "a8994334-2d28-4729-e4ad-0d3032ae8b8e"
      },
      "execution_count": null,
      "outputs": [
        {
          "output_type": "stream",
          "name": "stdout",
          "text": [
            "Global: 43\n",
            "Global: 43\n"
          ]
        }
      ]
    },
    {
      "cell_type": "code",
      "source": [
        "class Calc:  #Calc가 클래스 명\n",
        "    def __init__(self,a):\n",
        "      self.a = a\n",
        "    def add(self,b):\n",
        "      print(self.a+b)\n",
        "    def multiply(self,b):\n",
        "      print(self.a*b)\n",
        "#클래스의 정의"
      ],
      "metadata": {
        "id": "HlbNf8zrJeZK"
      },
      "execution_count": null,
      "outputs": []
    },
    {
      "cell_type": "code",
      "source": [
        "calc = Calc(4)   #인스턴트 calc생성\n",
        "calc.add(5)   #4+5\n",
        "calc.multiply(4) #4x4\n",
        "#인스턴스의 생성성\n",
        "\n"
      ],
      "metadata": {
        "colab": {
          "base_uri": "https://localhost:8080/"
        },
        "id": "86q4QX0QJvga",
        "outputId": "6a1c3d80-193e-4529-b051-5383504b0ed8"
      },
      "execution_count": null,
      "outputs": [
        {
          "output_type": "stream",
          "name": "stdout",
          "text": [
            "9\n",
            "16\n"
          ]
        }
      ]
    },
    {
      "cell_type": "code",
      "source": [
        "class CalcNext(Calc):   #Calc를 상속\n",
        "    def subtract(self,b):\n",
        "      print(self.a-b)\n",
        "    def divide(self,b):\n",
        "      print(self.a/b)\n",
        "#클래스의 상속"
      ],
      "metadata": {
        "id": "VkneAJc1K32v"
      },
      "execution_count": null,
      "outputs": []
    },
    {
      "cell_type": "code",
      "source": [
        "calc_next = CalcNext(4)  #인스턴스 calc_next를 생성\n",
        "calc_next.add(5)  #상속받은 부모의 메소드\n",
        "calc_next.multiply(5) #상속받은 부모의 메소드\n",
        "calc_next.subtract(5)\n",
        "calc_next.divide(5)\n",
        "#상속받은 클래스에서 인스턴스를 생성"
      ],
      "metadata": {
        "colab": {
          "base_uri": "https://localhost:8080/"
        },
        "id": "yQS8I4DkLZTQ",
        "outputId": "7b378828-fade-4c13-c6d2-a9710c6cf415"
      },
      "execution_count": null,
      "outputs": [
        {
          "output_type": "stream",
          "name": "stdout",
          "text": [
            "9\n",
            "20\n",
            "-1\n",
            "0.8\n"
          ]
        }
      ]
    },
    {
      "cell_type": "code",
      "source": [
        "class Calc:  #Calc 클래스\n",
        "    def __init__(self,a):  #__init()메소드\n",
        "        self.a=a\n",
        "    def __call__(self,c):  #__call()메소드\n",
        "        print(self.a*c+c)\n",
        "    def add(self,b):   #add()메소드\n",
        "        print(self.a +b)\n",
        "    def multiply(self,b):  #multiply()메소드\n",
        "        print(self.a*b)\n",
        "  #메소드의 예 "
      ],
      "metadata": {
        "id": "WnezZpRwMU-n"
      },
      "execution_count": 1,
      "outputs": []
    },
    {
      "cell_type": "code",
      "source": [
        "cl = Calc(3)  #인스턴스 cl을 생성\n",
        "cl(5)  #3x5+5\n",
        "#인스턴스명 cl을 사용해서 __call__() 메소드를 호출한다"
      ],
      "metadata": {
        "id": "w7Mz8_BdMU0-",
        "colab": {
          "base_uri": "https://localhost:8080/"
        },
        "outputId": "f3a08fb4-4397-4970-cb95-08a224d82da7"
      },
      "execution_count": 4,
      "outputs": [
        {
          "output_type": "stream",
          "name": "stdout",
          "text": [
            "20\n"
          ]
        }
      ]
    },
    {
      "cell_type": "code",
      "source": [
        "greetings = \"Good morning!\\nGood afternoon!\\nGood evening!\\nGood night!\"\n",
        "with open(\"greetings.txt\",\"w\") as f:\n",
        "  f.write(greetings)   #파일에 저장\n",
        "#with 구문을 사용한 파일로 써넣기\n"
      ],
      "metadata": {
        "id": "8nAE-yXTMUtW"
      },
      "execution_count": 13,
      "outputs": []
    },
    {
      "cell_type": "code",
      "source": [
        "with open(\"greetings.txt\",\"r\")as f:\n",
        "    print(f.read())   #파일 읽어 들이기\n",
        "#with 구문을 사용한 파일의 읽어 들이기"
      ],
      "metadata": {
        "id": "9SA4Y0fOMUg0",
        "colab": {
          "base_uri": "https://localhost:8080/"
        },
        "outputId": "e68345dc-98bb-4b6a-91f7-3f2da4604751"
      },
      "execution_count": 14,
      "outputs": [
        {
          "output_type": "stream",
          "name": "stdout",
          "text": [
            "Good morning!\n",
            "Good afternoon!\n",
            "Good evening!\n",
            "Good night!\n"
          ]
        }
      ]
    },
    {
      "cell_type": "code",
      "source": [
        "from google.colab import files\n",
        "uploaded=files.upload()\n",
        "for key in uploaded.keys():\n",
        "  print(uploaded[key].decode(\"utf-8\"))\n",
        "  #PC에서 Google Colaboratory로 파일 업로드"
      ],
      "metadata": {
        "id": "2MJcdx0jMUSf",
        "colab": {
          "base_uri": "https://localhost:8080/",
          "height": 150
        },
        "outputId": "5a9ad304-3690-45e5-c6e1-a2ef8ceb860a"
      },
      "execution_count": 19,
      "outputs": [
        {
          "output_type": "display_data",
          "data": {
            "text/plain": [
              "<IPython.core.display.HTML object>"
            ],
            "text/html": [
              "\n",
              "     <input type=\"file\" id=\"files-4315d67e-0c23-48c1-b264-feff99aa8a8f\" name=\"files[]\" multiple disabled\n",
              "        style=\"border:none\" />\n",
              "     <output id=\"result-4315d67e-0c23-48c1-b264-feff99aa8a8f\">\n",
              "      Upload widget is only available when the cell has been executed in the\n",
              "      current browser session. Please rerun this cell to enable.\n",
              "      </output>\n",
              "      <script>// Copyright 2017 Google LLC\n",
              "//\n",
              "// Licensed under the Apache License, Version 2.0 (the \"License\");\n",
              "// you may not use this file except in compliance with the License.\n",
              "// You may obtain a copy of the License at\n",
              "//\n",
              "//      http://www.apache.org/licenses/LICENSE-2.0\n",
              "//\n",
              "// Unless required by applicable law or agreed to in writing, software\n",
              "// distributed under the License is distributed on an \"AS IS\" BASIS,\n",
              "// WITHOUT WARRANTIES OR CONDITIONS OF ANY KIND, either express or implied.\n",
              "// See the License for the specific language governing permissions and\n",
              "// limitations under the License.\n",
              "\n",
              "/**\n",
              " * @fileoverview Helpers for google.colab Python module.\n",
              " */\n",
              "(function(scope) {\n",
              "function span(text, styleAttributes = {}) {\n",
              "  const element = document.createElement('span');\n",
              "  element.textContent = text;\n",
              "  for (const key of Object.keys(styleAttributes)) {\n",
              "    element.style[key] = styleAttributes[key];\n",
              "  }\n",
              "  return element;\n",
              "}\n",
              "\n",
              "// Max number of bytes which will be uploaded at a time.\n",
              "const MAX_PAYLOAD_SIZE = 100 * 1024;\n",
              "\n",
              "function _uploadFiles(inputId, outputId) {\n",
              "  const steps = uploadFilesStep(inputId, outputId);\n",
              "  const outputElement = document.getElementById(outputId);\n",
              "  // Cache steps on the outputElement to make it available for the next call\n",
              "  // to uploadFilesContinue from Python.\n",
              "  outputElement.steps = steps;\n",
              "\n",
              "  return _uploadFilesContinue(outputId);\n",
              "}\n",
              "\n",
              "// This is roughly an async generator (not supported in the browser yet),\n",
              "// where there are multiple asynchronous steps and the Python side is going\n",
              "// to poll for completion of each step.\n",
              "// This uses a Promise to block the python side on completion of each step,\n",
              "// then passes the result of the previous step as the input to the next step.\n",
              "function _uploadFilesContinue(outputId) {\n",
              "  const outputElement = document.getElementById(outputId);\n",
              "  const steps = outputElement.steps;\n",
              "\n",
              "  const next = steps.next(outputElement.lastPromiseValue);\n",
              "  return Promise.resolve(next.value.promise).then((value) => {\n",
              "    // Cache the last promise value to make it available to the next\n",
              "    // step of the generator.\n",
              "    outputElement.lastPromiseValue = value;\n",
              "    return next.value.response;\n",
              "  });\n",
              "}\n",
              "\n",
              "/**\n",
              " * Generator function which is called between each async step of the upload\n",
              " * process.\n",
              " * @param {string} inputId Element ID of the input file picker element.\n",
              " * @param {string} outputId Element ID of the output display.\n",
              " * @return {!Iterable<!Object>} Iterable of next steps.\n",
              " */\n",
              "function* uploadFilesStep(inputId, outputId) {\n",
              "  const inputElement = document.getElementById(inputId);\n",
              "  inputElement.disabled = false;\n",
              "\n",
              "  const outputElement = document.getElementById(outputId);\n",
              "  outputElement.innerHTML = '';\n",
              "\n",
              "  const pickedPromise = new Promise((resolve) => {\n",
              "    inputElement.addEventListener('change', (e) => {\n",
              "      resolve(e.target.files);\n",
              "    });\n",
              "  });\n",
              "\n",
              "  const cancel = document.createElement('button');\n",
              "  inputElement.parentElement.appendChild(cancel);\n",
              "  cancel.textContent = 'Cancel upload';\n",
              "  const cancelPromise = new Promise((resolve) => {\n",
              "    cancel.onclick = () => {\n",
              "      resolve(null);\n",
              "    };\n",
              "  });\n",
              "\n",
              "  // Wait for the user to pick the files.\n",
              "  const files = yield {\n",
              "    promise: Promise.race([pickedPromise, cancelPromise]),\n",
              "    response: {\n",
              "      action: 'starting',\n",
              "    }\n",
              "  };\n",
              "\n",
              "  cancel.remove();\n",
              "\n",
              "  // Disable the input element since further picks are not allowed.\n",
              "  inputElement.disabled = true;\n",
              "\n",
              "  if (!files) {\n",
              "    return {\n",
              "      response: {\n",
              "        action: 'complete',\n",
              "      }\n",
              "    };\n",
              "  }\n",
              "\n",
              "  for (const file of files) {\n",
              "    const li = document.createElement('li');\n",
              "    li.append(span(file.name, {fontWeight: 'bold'}));\n",
              "    li.append(span(\n",
              "        `(${file.type || 'n/a'}) - ${file.size} bytes, ` +\n",
              "        `last modified: ${\n",
              "            file.lastModifiedDate ? file.lastModifiedDate.toLocaleDateString() :\n",
              "                                    'n/a'} - `));\n",
              "    const percent = span('0% done');\n",
              "    li.appendChild(percent);\n",
              "\n",
              "    outputElement.appendChild(li);\n",
              "\n",
              "    const fileDataPromise = new Promise((resolve) => {\n",
              "      const reader = new FileReader();\n",
              "      reader.onload = (e) => {\n",
              "        resolve(e.target.result);\n",
              "      };\n",
              "      reader.readAsArrayBuffer(file);\n",
              "    });\n",
              "    // Wait for the data to be ready.\n",
              "    let fileData = yield {\n",
              "      promise: fileDataPromise,\n",
              "      response: {\n",
              "        action: 'continue',\n",
              "      }\n",
              "    };\n",
              "\n",
              "    // Use a chunked sending to avoid message size limits. See b/62115660.\n",
              "    let position = 0;\n",
              "    do {\n",
              "      const length = Math.min(fileData.byteLength - position, MAX_PAYLOAD_SIZE);\n",
              "      const chunk = new Uint8Array(fileData, position, length);\n",
              "      position += length;\n",
              "\n",
              "      const base64 = btoa(String.fromCharCode.apply(null, chunk));\n",
              "      yield {\n",
              "        response: {\n",
              "          action: 'append',\n",
              "          file: file.name,\n",
              "          data: base64,\n",
              "        },\n",
              "      };\n",
              "\n",
              "      let percentDone = fileData.byteLength === 0 ?\n",
              "          100 :\n",
              "          Math.round((position / fileData.byteLength) * 100);\n",
              "      percent.textContent = `${percentDone}% done`;\n",
              "\n",
              "    } while (position < fileData.byteLength);\n",
              "  }\n",
              "\n",
              "  // All done.\n",
              "  yield {\n",
              "    response: {\n",
              "      action: 'complete',\n",
              "    }\n",
              "  };\n",
              "}\n",
              "\n",
              "scope.google = scope.google || {};\n",
              "scope.google.colab = scope.google.colab || {};\n",
              "scope.google.colab._files = {\n",
              "  _uploadFiles,\n",
              "  _uploadFilesContinue,\n",
              "};\n",
              "})(self);\n",
              "</script> "
            ]
          },
          "metadata": {}
        },
        {
          "output_type": "stream",
          "name": "stdout",
          "text": [
            "Saving greetings.txt to greetings (3).txt\n",
            "Good morning!\n",
            "Good afternoon!\n",
            "Good evening!\n",
            "Good night!\n"
          ]
        }
      ]
    },
    {
      "cell_type": "code",
      "source": [
        "files.download(\"greetings.txt\")\n",
        "#Google Colaboratory에서 PC로 파일 다운로드"
      ],
      "metadata": {
        "colab": {
          "base_uri": "https://localhost:8080/",
          "height": 17
        },
        "id": "S7PjISCnKG4Z",
        "outputId": "e60e14ff-fc5f-4d02-bc41-532bef1bf6bc"
      },
      "execution_count": 20,
      "outputs": [
        {
          "output_type": "display_data",
          "data": {
            "text/plain": [
              "<IPython.core.display.Javascript object>"
            ],
            "application/javascript": [
              "\n",
              "    async function download(id, filename, size) {\n",
              "      if (!google.colab.kernel.accessAllowed) {\n",
              "        return;\n",
              "      }\n",
              "      const div = document.createElement('div');\n",
              "      const label = document.createElement('label');\n",
              "      label.textContent = `Downloading \"${filename}\": `;\n",
              "      div.appendChild(label);\n",
              "      const progress = document.createElement('progress');\n",
              "      progress.max = size;\n",
              "      div.appendChild(progress);\n",
              "      document.body.appendChild(div);\n",
              "\n",
              "      const buffers = [];\n",
              "      let downloaded = 0;\n",
              "\n",
              "      const channel = await google.colab.kernel.comms.open(id);\n",
              "      // Send a message to notify the kernel that we're ready.\n",
              "      channel.send({})\n",
              "\n",
              "      for await (const message of channel.messages) {\n",
              "        // Send a message to notify the kernel that we're ready.\n",
              "        channel.send({})\n",
              "        if (message.buffers) {\n",
              "          for (const buffer of message.buffers) {\n",
              "            buffers.push(buffer);\n",
              "            downloaded += buffer.byteLength;\n",
              "            progress.value = downloaded;\n",
              "          }\n",
              "        }\n",
              "      }\n",
              "      const blob = new Blob(buffers, {type: 'application/binary'});\n",
              "      const a = document.createElement('a');\n",
              "      a.href = window.URL.createObjectURL(blob);\n",
              "      a.download = filename;\n",
              "      div.appendChild(a);\n",
              "      a.click();\n",
              "      div.remove();\n",
              "    }\n",
              "  "
            ]
          },
          "metadata": {}
        },
        {
          "output_type": "display_data",
          "data": {
            "text/plain": [
              "<IPython.core.display.Javascript object>"
            ],
            "application/javascript": [
              "download(\"download_a296a06d-6549-4610-94e5-c7da055e97c0\", \"greetings.txt\", 55)"
            ]
          },
          "metadata": {}
        }
      ]
    },
    {
      "cell_type": "code",
      "source": [
        "from google.colab import drive\n",
        "drive.mount('/content/drive/')\n",
        "#Google 드라이브의 마운트"
      ],
      "metadata": {
        "colab": {
          "base_uri": "https://localhost:8080/"
        },
        "id": "T2q9F8KyMwH6",
        "outputId": "a876004e-8bad-426d-a055-3c097f7b8dbe"
      },
      "execution_count": 25,
      "outputs": [
        {
          "output_type": "stream",
          "name": "stdout",
          "text": [
            "Drive already mounted at /content/drive/; to attempt to forcibly remount, call drive.mount(\"/content/drive/\", force_remount=True).\n"
          ]
        }
      ]
    },
    {
      "cell_type": "code",
      "source": [
        "import os\n",
        "path='/content/drive/My Drive/greetings/'\n",
        "\n",
        "\n",
        "if not os.path.exists(path):   #디렉터리를 작성한다\n",
        "  os.makedirs(path)\n",
        "\n",
        "with open('/content/drive/My Drive/greetings/hello.txt','w') as f: #파일을 저장한다\n",
        "  f.write(\"Hello!\")\n",
        "  #Google 드라이브로의 파일 저장"
      ],
      "metadata": {
        "id": "d8DXEpLtNCiF"
      },
      "execution_count": 28,
      "outputs": []
    },
    {
      "cell_type": "code",
      "source": [
        "import numpy as np\n",
        "#Numpy를 도입"
      ],
      "metadata": {
        "id": "CsDbIh_uOAxX"
      },
      "execution_count": 29,
      "outputs": []
    },
    {
      "cell_type": "code",
      "source": [
        "import numpy as np\n",
        "#Python의 리스트로부터 Numpy 배열을 만든다\n",
        "a=np.array([0,1,2,3,4,5])    #a가 배열\n",
        "print(a)\n",
        "#Python의 리스트에서 Numpy 배열을 만든다"
      ],
      "metadata": {
        "colab": {
          "base_uri": "https://localhost:8080/"
        },
        "id": "mU7cwhzcPFmt",
        "outputId": "6872389b-fbcc-4ed8-ef3a-06a4f4874b5a"
      },
      "execution_count": 30,
      "outputs": [
        {
          "output_type": "stream",
          "name": "stdout",
          "text": [
            "[0 1 2 3 4 5]\n"
          ]
        }
      ]
    },
    {
      "cell_type": "code",
      "source": [
        "import numpy as np\n",
        "b=np.array([[0,1,2],[3,4,5]])  #2중 리스트로부터 -> Numpy의 2차원 배열을 만든다\n",
        "print(b)\n",
        "#2중 리스트로부터 Numpy의 2차원 배열 만들기"
      ],
      "metadata": {
        "colab": {
          "base_uri": "https://localhost:8080/"
        },
        "id": "KOhT1komPFjC",
        "outputId": "05f1ee89-49e9-4b24-98fe-026193614ae1"
      },
      "execution_count": 31,
      "outputs": [
        {
          "output_type": "stream",
          "name": "stdout",
          "text": [
            "[[0 1 2]\n",
            " [3 4 5]]\n"
          ]
        }
      ]
    },
    {
      "cell_type": "code",
      "source": [
        "import numpy as np\n",
        "#3중 리스트로부터 Numpy의 3차원 배열을 만든다\n",
        "c=np.array([[[0,1,2],[1,2,3]],[[2,3,4],[3,4,5]]])\n",
        "print(c)\n",
        "#3중 리스트로부터 Numpy의 3차원 배열을 만든다"
      ],
      "metadata": {
        "colab": {
          "base_uri": "https://localhost:8080/"
        },
        "id": "YwCnwALJPFgV",
        "outputId": "83988038-6558-4c6f-c5dc-37069ceca7cd"
      },
      "execution_count": 32,
      "outputs": [
        {
          "output_type": "stream",
          "name": "stdout",
          "text": [
            "[[[0 1 2]\n",
            "  [1 2 3]]\n",
            "\n",
            " [[2 3 4]\n",
            "  [3 4 5]]]\n"
          ]
        }
      ]
    },
    {
      "cell_type": "code",
      "source": [
        "import numpy as np\n",
        "a=np.array( [[0,1,2],[3,4,5]] )   #2차원 배열\n",
        "print(a)   #원본배열\n",
        "print()\n",
        "print(a+2)   #각 요소에 2를 더한다\n",
        "print(a)\n",
        "print(a*2)    #각 요소에 2를 곱한다\n",
        "#배열과 수치의 연산 "
      ],
      "metadata": {
        "colab": {
          "base_uri": "https://localhost:8080/"
        },
        "id": "V88PmbD8PFeF",
        "outputId": "21437dae-9281-47ae-8e63-fcb50cd4cb8a"
      },
      "execution_count": 34,
      "outputs": [
        {
          "output_type": "stream",
          "name": "stdout",
          "text": [
            "[[0 1 2]\n",
            " [3 4 5]]\n",
            "\n",
            "[[2 3 4]\n",
            " [5 6 7]]\n",
            "[[0 1 2]\n",
            " [3 4 5]]\n",
            "[[ 0  2  4]\n",
            " [ 6  8 10]]\n"
          ]
        }
      ]
    },
    {
      "cell_type": "code",
      "source": [
        "b=np.array([[0,1,2],[3,4,5]])   #2차원 배열\n",
        "c=np.array([[1,2,3],[4,5,6]])   #2차원 배열\n",
        "print(b) #원본 배열\n",
        "print()\n",
        "print(c) #원본 배열\n",
        "print()\n",
        "print(b+c) #요소끼리의 합\n",
        "print()\n",
        "print(b*c) #요소끼리의 곱\n",
        "#배열끼리의 연산"
      ],
      "metadata": {
        "colab": {
          "base_uri": "https://localhost:8080/"
        },
        "id": "puQNnQ3sPFYq",
        "outputId": "0775cfc8-6cf5-4ba3-9522-6934411d523d"
      },
      "execution_count": 35,
      "outputs": [
        {
          "output_type": "stream",
          "name": "stdout",
          "text": [
            "[[0 1 2]\n",
            " [3 4 5]]\n",
            "\n",
            "[[1 2 3]\n",
            " [4 5 6]]\n",
            "\n",
            "[[ 1  3  5]\n",
            " [ 7  9 11]]\n",
            "\n",
            "[[ 0  2  6]\n",
            " [12 20 30]]\n"
          ]
        }
      ]
    },
    {
      "cell_type": "code",
      "source": [
        "d=np.array([[1,1],\n",
        "            [1,1]])   #2차원 배열\n",
        "e=np.array([1,2])     #1차원 배열\n",
        "print(d)  #원본 배열\n",
        "print()\n",
        "print(e)  #원본 배열\n",
        "print()\n",
        "print(d+e)  #브로드캐스트의 적용\n",
        "#다른 차원의 배열끼리의 연산"
      ],
      "metadata": {
        "colab": {
          "base_uri": "https://localhost:8080/"
        },
        "id": "G7De38HfPFMv",
        "outputId": "3fa6d34c-0ad4-4620-c4a1-ad8c387cc8bc"
      },
      "execution_count": 38,
      "outputs": [
        {
          "output_type": "stream",
          "name": "stdout",
          "text": [
            "[[1 1]\n",
            " [1 1]]\n",
            "\n",
            "[1 2]\n",
            "\n",
            "[[2 3]\n",
            " [2 3]]\n"
          ]
        }
      ]
    },
    {
      "cell_type": "code",
      "source": [
        "import numpy as np\n",
        "a=np.array([[0,1,2],[3,4,5]])\n",
        "print(a.shape)  #배열 a의 형태를 표시\n",
        "#shape에 의해 배열의 형태를 얻음"
      ],
      "metadata": {
        "colab": {
          "base_uri": "https://localhost:8080/"
        },
        "id": "6zR8wNSYStVV",
        "outputId": "7c8d14e4-5d91-44f0-b50f-5037b45aaf54"
      },
      "execution_count": 40,
      "outputs": [
        {
          "output_type": "stream",
          "name": "stdout",
          "text": [
            "(2, 3)\n"
          ]
        }
      ]
    },
    {
      "cell_type": "code",
      "source": [
        "b=np.array([0,1,2,3,4,5,6,7,8,9,10,11])   #배열의 작성\n",
        "c=b.reshape(3,4)     #(3,4)인 2차원 배열로 변환\n",
        "print(b)   #원본 배열\n",
        "print()\n",
        "print(c)  #형태를 변환한 배열\n",
        "#reshape() 메소드에 의해 배열의 형태를 변환한다"
      ],
      "metadata": {
        "colab": {
          "base_uri": "https://localhost:8080/"
        },
        "id": "kn7Qi6UdStS6",
        "outputId": "64a253a0-a4c3-46c6-f6fe-f15ba84be511"
      },
      "execution_count": 46,
      "outputs": [
        {
          "output_type": "stream",
          "name": "stdout",
          "text": [
            "[ 0  1  2  3  4  5  6  7  8  9 10 11]\n",
            "\n",
            "[[ 0  1  2  3]\n",
            " [ 4  5  6  7]\n",
            " [ 8  9 10 11]]\n"
          ]
        }
      ]
    },
    {
      "cell_type": "code",
      "source": [
        "d=np.array([[[0,1,2],[3,4,5]],[[5,4,3],[2,1,0]]])  #3차원 배열\n",
        "e=d.reshape(-1)\n",
        "print(d)   #원본 배열\n",
        "print()\n",
        "print(e)   #형태를 변환한 배열\n",
        "#reshape()메소드에 의해 다차원 배열 1차원 배열로 변환하기"
      ],
      "metadata": {
        "colab": {
          "base_uri": "https://localhost:8080/"
        },
        "id": "bI8YDSrPStQT",
        "outputId": "514fa7d6-21d1-485c-b8eb-719830d4d30a"
      },
      "execution_count": 47,
      "outputs": [
        {
          "output_type": "stream",
          "name": "stdout",
          "text": [
            "[[[0 1 2]\n",
            "  [3 4 5]]\n",
            "\n",
            " [[5 4 3]\n",
            "  [2 1 0]]]\n",
            "\n",
            "[0 1 2 3 4 5 5 4 3 2 1 0]\n"
          ]
        }
      ]
    },
    {
      "cell_type": "code",
      "source": [
        "import numpy as np\n",
        "a=np.array([0,1,2,3,4,5,6])\n",
        "print(a[3])\n",
        "#인덱스를 지정하여 배열의 요소에 접근한다"
      ],
      "metadata": {
        "colab": {
          "base_uri": "https://localhost:8080/"
        },
        "id": "z0pDkEJZStNq",
        "outputId": "8bb46054-847c-4ba9-e344-1928cdae005a"
      },
      "execution_count": 48,
      "outputs": [
        {
          "output_type": "stream",
          "name": "stdout",
          "text": [
            "3\n"
          ]
        }
      ]
    },
    {
      "cell_type": "code",
      "source": [
        "a[3]=99\n",
        "print(a)\n",
        "#인덱스를 지정해서 배열요소 교체하기"
      ],
      "metadata": {
        "colab": {
          "base_uri": "https://localhost:8080/"
        },
        "id": "U9oOgI7FStG4",
        "outputId": "be7644e7-e862-46fc-d80a-c1df75bdd69c"
      },
      "execution_count": 49,
      "outputs": [
        {
          "output_type": "stream",
          "name": "stdout",
          "text": [
            "[ 0  1  2 99  4  5  6]\n"
          ]
        }
      ]
    },
    {
      "cell_type": "code",
      "source": [
        "b=np.array([[0,1,2],[3,4,5]])\n",
        "print(b[1,0])   #b[1][0]과 같다\n",
        "#2차원 배열 요소 접근하기"
      ],
      "metadata": {
        "colab": {
          "base_uri": "https://localhost:8080/"
        },
        "id": "f3kf-22ISs9-",
        "outputId": "afd18601-a66a-4aaf-f319-188e0300549d"
      },
      "execution_count": 51,
      "outputs": [
        {
          "output_type": "stream",
          "name": "stdout",
          "text": [
            "3\n"
          ]
        }
      ]
    },
    {
      "cell_type": "code",
      "source": [
        "b[1,0]=99\n",
        "print(b)\n",
        "#2차원 배열요소 교체하기"
      ],
      "metadata": {
        "colab": {
          "base_uri": "https://localhost:8080/"
        },
        "id": "2DDLBTT0q3iP",
        "outputId": "d1ec1991-e5e7-4f98-e55b-4da8a53bafb7"
      },
      "execution_count": 52,
      "outputs": [
        {
          "output_type": "stream",
          "name": "stdout",
          "text": [
            "[[ 0  1  2]\n",
            " [99  4  5]]\n"
          ]
        }
      ]
    },
    {
      "cell_type": "code",
      "source": [
        "import numpy as np\n",
        "def a_func(x):\n",
        "  y=x*2+1\n",
        "  return y\n",
        "a=np.array([[0,1,2],[3,4,5]])  #2차원 배열\n",
        "b=a_func(a)  #인수로서 배열을 전달한다\n",
        "print(a)  #원본 배열\n",
        "print()\n",
        "print(b)   #연산 후의 배열\n",
        "#인수 및 반환값으로서의 배열"
      ],
      "metadata": {
        "colab": {
          "base_uri": "https://localhost:8080/"
        },
        "id": "PyHTquPPrtNb",
        "outputId": "59db25e2-146e-4c03-a31c-ca02e34dce1d"
      },
      "execution_count": 54,
      "outputs": [
        {
          "output_type": "stream",
          "name": "stdout",
          "text": [
            "[[0 1 2]\n",
            " [3 4 5]]\n",
            "\n",
            "[[ 1  3  5]\n",
            " [ 7  9 11]]\n"
          ]
        }
      ]
    },
    {
      "cell_type": "code",
      "source": [
        "import numpy as np\n",
        "a=np.array([[1,2,3],[4,5,6]])\n",
        "print(np.sum(a))  #합계\n",
        "print(np.average(a))   #평균\n",
        "print(np.min(a))   #최솟값\n",
        "print(np.max(a))   #최댓값\n",
        "#Numpy가 가진 다양한 연산 가능"
      ],
      "metadata": {
        "colab": {
          "base_uri": "https://localhost:8080/"
        },
        "id": "tpg76hYCsJrU",
        "outputId": "66744a27-5a10-400e-e767-70a9a1220e55"
      },
      "execution_count": 55,
      "outputs": [
        {
          "output_type": "stream",
          "name": "stdout",
          "text": [
            "21\n",
            "3.5\n",
            "1\n",
            "6\n"
          ]
        }
      ]
    },
    {
      "cell_type": "code",
      "source": [
        "import numpy as np\n",
        "a=np.array([[1,2,3],[4,5,6]])\n",
        "print(np.average(a,axis=0))   #세로 방향에서 평균\n",
        "print(np.average(a,axis=1))   #가로 방향에서 평균\n",
        "#axis를 지정하여 연산한다"
      ],
      "metadata": {
        "colab": {
          "base_uri": "https://localhost:8080/"
        },
        "id": "vqXfd7EHstwr",
        "outputId": "de7519aa-c51c-4e7e-eb05-6b383c41e385"
      },
      "execution_count": 56,
      "outputs": [
        {
          "output_type": "stream",
          "name": "stdout",
          "text": [
            "[2.5 3.5 4.5]\n",
            "[2. 5.]\n"
          ]
        }
      ]
    }
  ]
}