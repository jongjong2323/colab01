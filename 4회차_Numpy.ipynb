{
  "nbformat": 4,
  "nbformat_minor": 0,
  "metadata": {
    "colab": {
      "provenance": [],
      "authorship_tag": "ABX9TyP0DFF6+LqVCzwJOFD0Fgoi",
      "include_colab_link": true
    },
    "kernelspec": {
      "name": "python3",
      "display_name": "Python 3"
    },
    "language_info": {
      "name": "python"
    }
  },
  "cells": [
    {
      "cell_type": "markdown",
      "metadata": {
        "id": "view-in-github",
        "colab_type": "text"
      },
      "source": [
        "<a href=\"https://colab.research.google.com/github/jongjong2323/colab01/blob/main/4%ED%9A%8C%EC%B0%A8_Numpy.ipynb\" target=\"_parent\"><img src=\"https://colab.research.google.com/assets/colab-badge.svg\" alt=\"Open In Colab\"/></a>"
      ]
    },
    {
      "cell_type": "markdown",
      "source": [
        "# Numpy\n",
        "딥러닝 코드에서 빈번히 사용되는 Python 확장 모듈이다. 내부 처리는 C언어로 기술되어 있으며 고속으로 효율적인 데이터 조작을 할수 있게 함."
      ],
      "metadata": {
        "id": "2id99_JJT2IO"
      }
    },
    {
      "cell_type": "code",
      "execution_count": null,
      "metadata": {
        "id": "78cDnp1MDzug"
      },
      "outputs": [],
      "source": [
        "import numpy as np\n",
        "#Numpy 도입"
      ]
    },
    {
      "cell_type": "code",
      "source": [
        "import numpy as np\n",
        "\n",
        "#Python의 리스트로 부터 Numpy 배열을 만든다\n",
        "a = np.array( [0, 1, 2, 3, 4, 5])\n",
        "print(a)"
      ],
      "metadata": {
        "colab": {
          "base_uri": "https://localhost:8080/"
        },
        "id": "61pYNSrPTVHW",
        "outputId": "90aa5ba5-b582-41d4-cfde-96a68097445e"
      },
      "execution_count": null,
      "outputs": [
        {
          "output_type": "stream",
          "name": "stdout",
          "text": [
            "[0 1 2 3 4 5]\n"
          ]
        }
      ]
    },
    {
      "cell_type": "code",
      "source": [
        "import numpy as np\n",
        "\n",
        "#2중 리스트로부터 Numpy의 2차원 배열을 만든다\n",
        "b = np.array( [[0,1,2], [3,4,5]])\n",
        "print(b)"
      ],
      "metadata": {
        "colab": {
          "base_uri": "https://localhost:8080/"
        },
        "id": "SNoPlf6UTiPs",
        "outputId": "3bf6b850-a6dd-4ab9-bea1-2601aaec045c"
      },
      "execution_count": null,
      "outputs": [
        {
          "output_type": "stream",
          "name": "stdout",
          "text": [
            "[[0 1 2]\n",
            " [3 4 5]]\n"
          ]
        }
      ]
    },
    {
      "cell_type": "code",
      "source": [
        "import numpy as np\n",
        "\n",
        "#3중 리스트로부터 Numpy의 3차원 배열을 만든다\n",
        "c = np.array([[[0,1,2],[1,2,3]],[[2,3,4],[3,4,5]]])\n",
        "print(c)"
      ],
      "metadata": {
        "id": "qzNuGmfDTxzM",
        "colab": {
          "base_uri": "https://localhost:8080/"
        },
        "outputId": "440acb4e-de1a-4d41-f07d-d06be6049d1d"
      },
      "execution_count": 1,
      "outputs": [
        {
          "output_type": "stream",
          "name": "stdout",
          "text": [
            "[[[0 1 2]\n",
            "  [1 2 3]]\n",
            "\n",
            " [[2 3 4]\n",
            "  [3 4 5]]]\n"
          ]
        }
      ]
    },
    {
      "cell_type": "code",
      "source": [
        "import numpy as np\n",
        "\n",
        "a = np.array([[0,1,2],[3,4,5]])\n",
        "\n",
        "print(a)\n",
        "\n",
        "print(a+2)\n",
        "\n",
        "print(a*2)"
      ],
      "metadata": {
        "colab": {
          "base_uri": "https://localhost:8080/"
        },
        "id": "JNHPZRekQlPv",
        "outputId": "172cf118-6e38-4b70-bfac-36cc3ef068b4"
      },
      "execution_count": 3,
      "outputs": [
        {
          "output_type": "stream",
          "name": "stdout",
          "text": [
            "[[0 1 2]\n",
            " [3 4 5]]\n",
            "[[2 3 4]\n",
            " [5 6 7]]\n",
            "[[ 0  2  4]\n",
            " [ 6  8 10]]\n"
          ]
        }
      ]
    },
    {
      "cell_type": "code",
      "source": [
        "b = np.array( [[0,1,2],[3,4,5]])\n",
        "c = np.array([[1,2,3],[4,5,6]])\n",
        "\n",
        "print(b)\n",
        "print(c)\n",
        "print(b+c)\n",
        "print(b*c)"
      ],
      "metadata": {
        "colab": {
          "base_uri": "https://localhost:8080/"
        },
        "id": "i0SfoIb7Q2VS",
        "outputId": "18f02a75-4b50-41ae-fa4a-6478ea813044"
      },
      "execution_count": 4,
      "outputs": [
        {
          "output_type": "stream",
          "name": "stdout",
          "text": [
            "[[0 1 2]\n",
            " [3 4 5]]\n",
            "[[1 2 3]\n",
            " [4 5 6]]\n",
            "[[ 1  3  5]\n",
            " [ 7  9 11]]\n",
            "[[ 0  2  6]\n",
            " [12 20 30]]\n"
          ]
        }
      ]
    },
    {
      "cell_type": "code",
      "source": [
        "d = np.array([[1,1],[1,1]])\n",
        "e = np.array([1,2])\n",
        "\n",
        "print(d)\n",
        "print(e)\n",
        "print(d+e)"
      ],
      "metadata": {
        "colab": {
          "base_uri": "https://localhost:8080/"
        },
        "id": "7Vg2_ZRZRM23",
        "outputId": "771470ca-615a-4cef-9d4a-bb553a93b4e4"
      },
      "execution_count": 5,
      "outputs": [
        {
          "output_type": "stream",
          "name": "stdout",
          "text": [
            "[[1 1]\n",
            " [1 1]]\n",
            "[1 2]\n",
            "[[2 3]\n",
            " [2 3]]\n"
          ]
        }
      ]
    },
    {
      "cell_type": "code",
      "source": [
        "import numpy as np\n",
        "\n",
        "a = np.array([[0,1,2],[3,4,5]])\n",
        "\n",
        "print(a.shape)"
      ],
      "metadata": {
        "colab": {
          "base_uri": "https://localhost:8080/"
        },
        "id": "_a1Kr8LGRaWb",
        "outputId": "9e6d56d0-611a-4ef5-c4ab-0ed5d0c15d99"
      },
      "execution_count": 6,
      "outputs": [
        {
          "output_type": "stream",
          "name": "stdout",
          "text": [
            "(2, 3)\n"
          ]
        }
      ]
    },
    {
      "cell_type": "code",
      "source": [
        "b = np.array([0,1,2,3,4,5,6,7,8,9,10,11])\n",
        "c = b.reshape( 3,4 )\n",
        "\n",
        "print(b)\n",
        "print()\n",
        "print(c)"
      ],
      "metadata": {
        "colab": {
          "base_uri": "https://localhost:8080/"
        },
        "id": "fES2Qhs8Rgii",
        "outputId": "63b44dc1-9cc7-45ca-bbb2-be9408d1a514"
      },
      "execution_count": 8,
      "outputs": [
        {
          "output_type": "stream",
          "name": "stdout",
          "text": [
            "[ 0  1  2  3  4  5  6  7  8  9 10 11]\n",
            "\n",
            "[[ 0  1  2  3]\n",
            " [ 4  5  6  7]\n",
            " [ 8  9 10 11]]\n"
          ]
        }
      ]
    },
    {
      "cell_type": "code",
      "source": [
        "d = np.array([[[0,1,2],[3,4,5]],[[5,4,3],[2,1,0]]])\n",
        "\n",
        "e = d.reshape( -1 )\n",
        "\n",
        "print(d)\n",
        "print(e)"
      ],
      "metadata": {
        "colab": {
          "base_uri": "https://localhost:8080/"
        },
        "id": "Mx3ynltPR6Eo",
        "outputId": "81d72901-94dc-4d6d-f033-8180b6fbdab4"
      },
      "execution_count": 9,
      "outputs": [
        {
          "output_type": "stream",
          "name": "stdout",
          "text": [
            "[[[0 1 2]\n",
            "  [3 4 5]]\n",
            "\n",
            " [[5 4 3]\n",
            "  [2 1 0]]]\n",
            "[0 1 2 3 4 5 5 4 3 2 1 0]\n"
          ]
        }
      ]
    },
    {
      "cell_type": "code",
      "source": [
        "import numpy as np\n",
        "\n",
        "a = np.array([0,1,2,3,4,5,6])\n",
        "print(a[3])"
      ],
      "metadata": {
        "colab": {
          "base_uri": "https://localhost:8080/"
        },
        "id": "eljsUDWpSOAm",
        "outputId": "91c1b173-7079-48ea-fa4b-1ded7696ec97"
      },
      "execution_count": 10,
      "outputs": [
        {
          "output_type": "stream",
          "name": "stdout",
          "text": [
            "3\n"
          ]
        }
      ]
    },
    {
      "cell_type": "code",
      "source": [
        "a[3] = 99\n",
        "print(a)"
      ],
      "metadata": {
        "colab": {
          "base_uri": "https://localhost:8080/"
        },
        "id": "sbGstSpSSbVM",
        "outputId": "cb195b45-0895-49aa-90d6-a621fa91687f"
      },
      "execution_count": 11,
      "outputs": [
        {
          "output_type": "stream",
          "name": "stdout",
          "text": [
            "[ 0  1  2 99  4  5  6]\n"
          ]
        }
      ]
    },
    {
      "cell_type": "code",
      "source": [
        "b = np.array([[0,1,2],[3,4,5]])\n",
        "\n",
        "print(b[1,0])"
      ],
      "metadata": {
        "colab": {
          "base_uri": "https://localhost:8080/"
        },
        "id": "3no5aCOgSdyY",
        "outputId": "8219cfa9-8087-4293-ad6e-8bb5fc3ccdae"
      },
      "execution_count": 13,
      "outputs": [
        {
          "output_type": "stream",
          "name": "stdout",
          "text": [
            "3\n"
          ]
        }
      ]
    },
    {
      "cell_type": "code",
      "source": [
        "b[1,0] = 99\n",
        "\n",
        "print(b)"
      ],
      "metadata": {
        "colab": {
          "base_uri": "https://localhost:8080/"
        },
        "id": "dtyKP6Y_Sh2j",
        "outputId": "bf04a71f-6408-4f33-c101-83de1e79e12d"
      },
      "execution_count": 14,
      "outputs": [
        {
          "output_type": "stream",
          "name": "stdout",
          "text": [
            "[[ 0  1  2]\n",
            " [99  4  5]]\n"
          ]
        }
      ]
    },
    {
      "cell_type": "code",
      "source": [
        "import numpy as np\n",
        "\n",
        "def a_func( x ):\n",
        "  y = x * 2 + 1\n",
        "  return y\n",
        "\n",
        "a = np.array( [[0,1,2],[3,4,5]])\n",
        "\n",
        "b = a_func( a )\n",
        "\n",
        "print(a)\n",
        "print()\n",
        "print(b)"
      ],
      "metadata": {
        "colab": {
          "base_uri": "https://localhost:8080/"
        },
        "id": "Ck9z0VeQSqIX",
        "outputId": "314dab51-e41d-487b-863f-d9118471053b"
      },
      "execution_count": 16,
      "outputs": [
        {
          "output_type": "stream",
          "name": "stdout",
          "text": [
            "[[0 1 2]\n",
            " [3 4 5]]\n",
            "\n",
            "[[ 1  3  5]\n",
            " [ 7  9 11]]\n"
          ]
        }
      ]
    },
    {
      "cell_type": "code",
      "source": [
        "import numpy as np\n",
        "\n",
        "a = np.array( [[1,2,3],[4,5,6]])\n",
        "\n",
        "print( np.sum(a))\n",
        "print( np.average(a) )\n",
        "print( np.min(a) )\n",
        "print( np.max(a) )"
      ],
      "metadata": {
        "colab": {
          "base_uri": "https://localhost:8080/"
        },
        "id": "hd3VYc0lS6pJ",
        "outputId": "9bfa5106-3f22-4e5f-d51b-a48bd5367cf6"
      },
      "execution_count": 17,
      "outputs": [
        {
          "output_type": "stream",
          "name": "stdout",
          "text": [
            "21\n",
            "3.5\n",
            "1\n",
            "6\n"
          ]
        }
      ]
    },
    {
      "cell_type": "code",
      "source": [
        "import numpy as np\n",
        "\n",
        "a = np.array([[1,2,3],[4,5,6]])\n",
        "\n",
        "print( np.average(a, axis=0) )\n",
        "print( np.average(a, axis=1) )"
      ],
      "metadata": {
        "colab": {
          "base_uri": "https://localhost:8080/"
        },
        "id": "J-6nEZPMTPkj",
        "outputId": "4f72ab7d-67c2-4463-a02d-4544da7d0ade"
      },
      "execution_count": 18,
      "outputs": [
        {
          "output_type": "stream",
          "name": "stdout",
          "text": [
            "[2.5 3.5 4.5]\n",
            "[2. 5.]\n"
          ]
        }
      ]
    }
  ]
}