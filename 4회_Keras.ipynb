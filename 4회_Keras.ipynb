{
  "nbformat": 4,
  "nbformat_minor": 0,
  "metadata": {
    "colab": {
      "provenance": [],
      "authorship_tag": "ABX9TyMPatJjSr4j14QDOsGhYslj",
      "include_colab_link": true
    },
    "kernelspec": {
      "name": "python3",
      "display_name": "Python 3"
    },
    "language_info": {
      "name": "python"
    }
  },
  "cells": [
    {
      "cell_type": "markdown",
      "metadata": {
        "id": "view-in-github",
        "colab_type": "text"
      },
      "source": [
        "<a href=\"https://colab.research.google.com/github/jongjong2323/colab01/blob/main/4%ED%9A%8C_Keras.ipynb\" target=\"_parent\"><img src=\"https://colab.research.google.com/assets/colab-badge.svg\" alt=\"Open In Colab\"/></a>"
      ]
    },
    {
      "cell_type": "markdown",
      "source": [
        "# Keras\n",
        "딥러닝용의 프레임워크 Keras를 사용해 최소한의 코드로 딥러닝을 구현함.\n",
        "Keras는 Python으로 쓰여져 TensorFlow 혹은 CNTK, Theano상에서 실행할 수 있는 머신러닝 프레임워크이다."
      ],
      "metadata": {
        "id": "xcfKYvTHP6ga"
      }
    },
    {
      "cell_type": "code",
      "execution_count": null,
      "metadata": {
        "colab": {
          "base_uri": "https://localhost:8080/"
        },
        "id": "0Om3xd3ZME-J",
        "outputId": "b238164a-4c03-46be-b812-0889dbc46f86"
      },
      "outputs": [
        {
          "output_type": "stream",
          "name": "stdout",
          "text": [
            "[[5.1 3.5 1.4 0.2]\n",
            " [4.9 3.  1.4 0.2]\n",
            " [4.7 3.2 1.3 0.2]\n",
            " [4.6 3.1 1.5 0.2]\n",
            " [5.  3.6 1.4 0.2]\n",
            " [5.4 3.9 1.7 0.4]\n",
            " [4.6 3.4 1.4 0.3]\n",
            " [5.  3.4 1.5 0.2]\n",
            " [4.4 2.9 1.4 0.2]\n",
            " [4.9 3.1 1.5 0.1]]\n",
            "(150, 4)\n",
            "[0 0 0 0 0 0 0 0 0 0 0 0 0 0 0 0 0 0 0 0 0 0 0 0 0 0 0 0 0 0 0 0 0 0 0 0 0\n",
            " 0 0 0 0 0 0 0 0 0 0 0 0 0 1 1 1 1 1 1 1 1 1 1 1 1 1 1 1 1 1 1 1 1 1 1 1 1\n",
            " 1 1 1 1 1 1 1 1 1 1 1 1 1 1 1 1 1 1 1 1 1 1 1 1 1 1 2 2 2 2 2 2 2 2 2 2 2\n",
            " 2 2 2 2 2 2 2 2 2 2 2 2 2 2 2 2 2 2 2 2 2 2 2 2 2 2 2 2 2 2 2 2 2 2 2 2 2\n",
            " 2 2]\n"
          ]
        }
      ],
      "source": [
        "import numpy as np\n",
        "from sklearn import datasets\n",
        "\n",
        "iris = datasets.load_iris()\n",
        "print(iris.data[:10])\n",
        "print(iris.data.shape)\n",
        "print(iris.target)"
      ]
    },
    {
      "cell_type": "code",
      "source": [
        "from sklearn import preprocessing\n",
        "from keras.utils import np_utils\n",
        "\n",
        "scaler = preprocessing.StandardScaler()\n",
        "scaler.fit(iris.data)\n",
        "x = scaler.transform(iris.data)\n",
        "print(x[:10])\n",
        "\n",
        "t = np_utils.to_categorical(iris.target)\n",
        "print(t[:10])"
      ],
      "metadata": {
        "colab": {
          "base_uri": "https://localhost:8080/"
        },
        "id": "1p7OW8-fRBMH",
        "outputId": "cfcee2be-a726-4520-cdcb-c0b0baa47cce"
      },
      "execution_count": null,
      "outputs": [
        {
          "output_type": "stream",
          "name": "stdout",
          "text": [
            "[[-0.90068117  1.01900435 -1.34022653 -1.3154443 ]\n",
            " [-1.14301691 -0.13197948 -1.34022653 -1.3154443 ]\n",
            " [-1.38535265  0.32841405 -1.39706395 -1.3154443 ]\n",
            " [-1.50652052  0.09821729 -1.2833891  -1.3154443 ]\n",
            " [-1.02184904  1.24920112 -1.34022653 -1.3154443 ]\n",
            " [-0.53717756  1.93979142 -1.16971425 -1.05217993]\n",
            " [-1.50652052  0.78880759 -1.34022653 -1.18381211]\n",
            " [-1.02184904  0.78880759 -1.2833891  -1.3154443 ]\n",
            " [-1.74885626 -0.36217625 -1.34022653 -1.3154443 ]\n",
            " [-1.14301691  0.09821729 -1.2833891  -1.44707648]]\n",
            "[[1. 0. 0.]\n",
            " [1. 0. 0.]\n",
            " [1. 0. 0.]\n",
            " [1. 0. 0.]\n",
            " [1. 0. 0.]\n",
            " [1. 0. 0.]\n",
            " [1. 0. 0.]\n",
            " [1. 0. 0.]\n",
            " [1. 0. 0.]\n",
            " [1. 0. 0.]]\n"
          ]
        }
      ]
    },
    {
      "cell_type": "code",
      "source": [
        "from sklearn.model_selection import train_test_split\n",
        "\n",
        "x_train, x_test, t_train, t_test, = train_test_split(x,t, train_size=0.75)"
      ],
      "metadata": {
        "id": "_qJPKKG_Rj7U"
      },
      "execution_count": null,
      "outputs": []
    },
    {
      "cell_type": "code",
      "source": [
        "from tensorflow.keras.models import Sequential\n",
        "from tensorflow.keras.layers import Dense, Activation\n",
        "\n",
        "model = Sequential()\n",
        "model.add(Dense(32, input_dim=4))\n",
        "model.add(Activation('relu'))\n",
        "model.add(Dense(32))\n",
        "model.add(Activation('relu'))\n",
        "model.add(Dense(3))\n",
        "model.add(Activation('softmax'))\n",
        "model.compile(optimizer='sgd', loss='categorical_crossentropy', metrics=['accuracy'])\n",
        "\n",
        "print(model.summary())"
      ],
      "metadata": {
        "colab": {
          "base_uri": "https://localhost:8080/"
        },
        "id": "n1kcE2pcSE-r",
        "outputId": "0685575c-5969-4810-c99c-a278c0b19ee5"
      },
      "execution_count": null,
      "outputs": [
        {
          "output_type": "stream",
          "name": "stdout",
          "text": [
            "Model: \"sequential\"\n",
            "_________________________________________________________________\n",
            " Layer (type)                Output Shape              Param #   \n",
            "=================================================================\n",
            " dense (Dense)               (None, 32)                160       \n",
            "                                                                 \n",
            " activation (Activation)     (None, 32)                0         \n",
            "                                                                 \n",
            " dense_1 (Dense)             (None, 32)                1056      \n",
            "                                                                 \n",
            " activation_1 (Activation)   (None, 32)                0         \n",
            "                                                                 \n",
            " dense_2 (Dense)             (None, 3)                 99        \n",
            "                                                                 \n",
            " activation_2 (Activation)   (None, 3)                 0         \n",
            "                                                                 \n",
            "=================================================================\n",
            "Total params: 1,315\n",
            "Trainable params: 1,315\n",
            "Non-trainable params: 0\n",
            "_________________________________________________________________\n",
            "None\n"
          ]
        }
      ]
    },
    {
      "cell_type": "code",
      "source": [
        "history = model.fit(x_train, t_train, epochs=30, batch_size=8)"
      ],
      "metadata": {
        "colab": {
          "base_uri": "https://localhost:8080/"
        },
        "id": "qetTEhFbSyhu",
        "outputId": "14aad232-5ffe-4e40-d53c-75309d64c9bf"
      },
      "execution_count": null,
      "outputs": [
        {
          "output_type": "stream",
          "name": "stdout",
          "text": [
            "Epoch 1/30\n",
            "14/14 [==============================] - 1s 10ms/step - loss: 1.1496 - accuracy: 0.2054\n",
            "Epoch 2/30\n",
            "14/14 [==============================] - 0s 6ms/step - loss: 1.0927 - accuracy: 0.3929\n",
            "Epoch 3/30\n",
            "14/14 [==============================] - 0s 4ms/step - loss: 1.0444 - accuracy: 0.4732\n",
            "Epoch 4/30\n",
            "14/14 [==============================] - 0s 6ms/step - loss: 0.9982 - accuracy: 0.5357\n",
            "Epoch 5/30\n",
            "14/14 [==============================] - 0s 4ms/step - loss: 0.9539 - accuracy: 0.7411\n",
            "Epoch 6/30\n",
            "14/14 [==============================] - 0s 2ms/step - loss: 0.9120 - accuracy: 0.7946\n",
            "Epoch 7/30\n",
            "14/14 [==============================] - 0s 2ms/step - loss: 0.8732 - accuracy: 0.7946\n",
            "Epoch 8/30\n",
            "14/14 [==============================] - 0s 2ms/step - loss: 0.8381 - accuracy: 0.8036\n",
            "Epoch 9/30\n",
            "14/14 [==============================] - 0s 2ms/step - loss: 0.8039 - accuracy: 0.8125\n",
            "Epoch 10/30\n",
            "14/14 [==============================] - 0s 2ms/step - loss: 0.7694 - accuracy: 0.8036\n",
            "Epoch 11/30\n",
            "14/14 [==============================] - 0s 2ms/step - loss: 0.7372 - accuracy: 0.8125\n",
            "Epoch 12/30\n",
            "14/14 [==============================] - 0s 4ms/step - loss: 0.7055 - accuracy: 0.8125\n",
            "Epoch 13/30\n",
            "14/14 [==============================] - 0s 2ms/step - loss: 0.6750 - accuracy: 0.8125\n",
            "Epoch 14/30\n",
            "14/14 [==============================] - 0s 2ms/step - loss: 0.6456 - accuracy: 0.8125\n",
            "Epoch 15/30\n",
            "14/14 [==============================] - 0s 2ms/step - loss: 0.6193 - accuracy: 0.8125\n",
            "Epoch 16/30\n",
            "14/14 [==============================] - 0s 2ms/step - loss: 0.5943 - accuracy: 0.8214\n",
            "Epoch 17/30\n",
            "14/14 [==============================] - 0s 2ms/step - loss: 0.5713 - accuracy: 0.8214\n",
            "Epoch 18/30\n",
            "14/14 [==============================] - 0s 2ms/step - loss: 0.5503 - accuracy: 0.8214\n",
            "Epoch 19/30\n",
            "14/14 [==============================] - 0s 2ms/step - loss: 0.5307 - accuracy: 0.8214\n",
            "Epoch 20/30\n",
            "14/14 [==============================] - 0s 2ms/step - loss: 0.5115 - accuracy: 0.8214\n",
            "Epoch 21/30\n",
            "14/14 [==============================] - 0s 2ms/step - loss: 0.4947 - accuracy: 0.8304\n",
            "Epoch 22/30\n",
            "14/14 [==============================] - 0s 2ms/step - loss: 0.4795 - accuracy: 0.8393\n",
            "Epoch 23/30\n",
            "14/14 [==============================] - 0s 2ms/step - loss: 0.4642 - accuracy: 0.8482\n",
            "Epoch 24/30\n",
            "14/14 [==============================] - 0s 2ms/step - loss: 0.4507 - accuracy: 0.8750\n",
            "Epoch 25/30\n",
            "14/14 [==============================] - 0s 2ms/step - loss: 0.4381 - accuracy: 0.8750\n",
            "Epoch 26/30\n",
            "14/14 [==============================] - 0s 2ms/step - loss: 0.4265 - accuracy: 0.8839\n",
            "Epoch 27/30\n",
            "14/14 [==============================] - 0s 2ms/step - loss: 0.4155 - accuracy: 0.8929\n",
            "Epoch 28/30\n",
            "14/14 [==============================] - 0s 3ms/step - loss: 0.4050 - accuracy: 0.8929\n",
            "Epoch 29/30\n",
            "14/14 [==============================] - 0s 2ms/step - loss: 0.3954 - accuracy: 0.8929\n",
            "Epoch 30/30\n",
            "14/14 [==============================] - 0s 2ms/step - loss: 0.3859 - accuracy: 0.9018\n"
          ]
        }
      ]
    },
    {
      "cell_type": "code",
      "source": [
        "import matplotlib.pyplot as plt\n",
        "\n",
        "hist_loss = history.history['loss']\n",
        "hist_acc = history.history['accuracy']\n",
        "\n",
        "plt.plot(np.arange(len(hist_loss)), hist_loss, label='loss')\n",
        "plt.plot(np.arange(len(hist_acc)), hist_acc, label='accuracy')\n",
        "plt.legend()\n",
        "plt.show()"
      ],
      "metadata": {
        "colab": {
          "base_uri": "https://localhost:8080/",
          "height": 430
        },
        "id": "XjkIws3PTC54",
        "outputId": "1cfa914e-3447-45e6-898a-87eb0ccf3bbe"
      },
      "execution_count": null,
      "outputs": [
        {
          "output_type": "display_data",
          "data": {
            "text/plain": [
              "<Figure size 640x480 with 1 Axes>"
            ],
            "image/png": "[encoded data removed]"
          },
          "metadata": {}
        }
      ]
    },
    {
      "cell_type": "code",
      "source": [
        "loss, accuracy = model.evaluate(x_test, t_test)\n",
        "print('오차:', loss, '정밀도:', accuracy)"
      ],
      "metadata": {
        "colab": {
          "base_uri": "https://localhost:8080/"
        },
        "id": "9dORzvShTjm2",
        "outputId": "f8b0d000-dd67-413f-c3e6-34cee8fa32cc"
      },
      "execution_count": null,
      "outputs": [
        {
          "output_type": "stream",
          "name": "stdout",
          "text": [
            "2/2 [==============================] - 0s 6ms/step - loss: 0.3047 - accuracy: 0.8947\n",
            "오차: 0.3046971261501312 정밀도: 0.8947368264198303\n"
          ]
        }
      ]
    },
    {
      "cell_type": "code",
      "source": [
        "y_test = model.predict(x_test)\n",
        "print(y_test[:10])"
      ],
      "metadata": {
        "colab": {
          "base_uri": "https://localhost:8080/"
        },
        "id": "H0-bc4__T0k7",
        "outputId": "2606eb35-8e5c-409b-fcc2-026fc83b3b2c"
      },
      "execution_count": null,
      "outputs": [
        {
          "output_type": "stream",
          "name": "stdout",
          "text": [
            "2/2 [==============================] - 0s 5ms/step\n",
            "[[0.9209256  0.06999777 0.00907653]\n",
            " [0.08769566 0.4080586  0.5042457 ]\n",
            " [0.9360383  0.05669214 0.00726952]\n",
            " [0.90043    0.08943445 0.01013549]\n",
            " [0.8853488  0.10177942 0.01287177]\n",
            " [0.9161416  0.0744843  0.00937416]\n",
            " [0.07289322 0.505058   0.42204872]\n",
            " [0.05749069 0.3142227  0.6282866 ]\n",
            " [0.06461933 0.42502922 0.5103515 ]\n",
            " [0.07246099 0.3313627  0.5961763 ]]\n"
          ]
        }
      ]
    },
    {
      "cell_type": "code",
      "source": [
        "from tensorflow.keras.models import load_model\n",
        "\n",
        "model.save('model.h5')\n",
        "load_model('model.h5')"
      ],
      "metadata": {
        "colab": {
          "base_uri": "https://localhost:8080/"
        },
        "id": "ZEorDDbYUAUW",
        "outputId": "5883615f-a268-43ad-d344-e8142f42ca3a"
      },
      "execution_count": null,
      "outputs": [
        {
          "output_type": "execute_result",
          "data": {
            "text/plain": [
              "<keras.engine.sequential.Sequential at 0x7f43f9ad1480>"
            ]
          },
          "metadata": {},
          "execution_count": 9
        }
      ]
    }
  ]
}