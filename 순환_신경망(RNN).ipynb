{
  "nbformat": 4,
  "nbformat_minor": 0,
  "metadata": {
    "colab": {
      "provenance": [],
      "authorship_tag": "ABX9TyNcO1ks1sDu3QkJWN+IH9CA",
      "include_colab_link": true
    },
    "kernelspec": {
      "name": "python3",
      "display_name": "Python 3"
    },
    "language_info": {
      "name": "python"
    }
  },
  "cells": [
    {
      "cell_type": "markdown",
      "metadata": {
        "id": "view-in-github",
        "colab_type": "text"
      },
      "source": [
        "<a href=\"https://colab.research.google.com/github/jongjong2323/colab01/blob/main/%EC%88%9C%ED%99%98_%EC%8B%A0%EA%B2%BD%EB%A7%9D(RNN).ipynb\" target=\"_parent\"><img src=\"https://colab.research.google.com/assets/colab-badge.svg\" alt=\"Open In Colab\"/></a>"
      ]
    },
    {
      "cell_type": "markdown",
      "source": [
        "#순환 신경망(RNN)\n",
        "RNN은 Recurrent Neural Network의 약어이다. 음성이나, 문장, 동영상 등을 다루는 데 적합하다. RNN은 시간 변화하는 데이터 즉 시계열 데이터를 다룰 수 있게 된다.\n",
        "\n",
        "RNN에 사용할 데이터 작성, sin() 함수에 난수로 노이즈를 더한 데이터를 작성하고, 과거의 시계열 데이터로부터 미래의 값을 예측할 수 있도록 한다.\n",
        "\n"
      ],
      "metadata": {
        "id": "KVf7gjq0pb94"
      }
    },
    {
      "cell_type": "code",
      "execution_count": 1,
      "metadata": {
        "colab": {
          "base_uri": "https://localhost:8080/",
          "height": 467
        },
        "id": "3vr7XeIcpHvP",
        "outputId": "8ed45ac2-8cc8-4b23-8992-42a095e68082"
      },
      "outputs": [
        {
          "output_type": "display_data",
          "data": {
            "text/plain": [
              "<Figure size 640x480 with 1 Axes>"
            ],
            "image/png": "[encoded data removed]"
          },
          "metadata": {}
        },
        {
          "output_type": "stream",
          "name": "stdout",
          "text": [
            "(40, 10, 1)\n",
            "(40, 10, 1)\n"
          ]
        }
      ],
      "source": [
        "#훈련 데이터의 작성\n",
        "import numpy as np\n",
        "import matplotlib.pyplot as plt\n",
        "\n",
        "x_data = np.linspace(-2*np.pi, 2*np.pi)  #-2파이 에서 2파이 까지\n",
        "sin_data = np.sin(x_data) + 0.1*np.random.randn(len(x_data))  #sin() 함수에 난수로 노이즈를 더한다\n",
        "\n",
        "plt.plot(x_data, sin_data)\n",
        "plt.show()\n",
        "\n",
        "n_rnn = 10   #시계열의 수\n",
        "n_sample = len(x_data)-n_rnn  #샘플 수\n",
        "x = np.zeros((n_sample, n_rnn))  #입력\n",
        "t = np.zeros((n_sample, n_rnn))  #정답\n",
        "for i in range(0, n_sample):\n",
        "  x[i] = sin_data[i:i+n_rnn]\n",
        "  t[i] = sin_data[i+1:i+n_rnn+1]  #시계열을 입력보다도 1개 뒤로 비켜놓는다\n",
        "\n",
        "x = x.reshape(n_sample, n_rnn, 1)  #Keras에서의 RNN에서는 입력을 (샘플 수, 시계열의 수, 입력층의 뉴런 수)로 한다\n",
        "print(x.shape)\n",
        "t = t.reshape(n_sample, n_rnn, 1)  #이번은 입력과 같은 형태\n",
        "print(t.shape)"
      ]
    },
    {
      "cell_type": "markdown",
      "source": [
        "#RNN의 구축\n",
        "Keras를 사용해 간단한 RNN 구축, Keras에서 간단한 RNN층은 SimpleRNN() 함수에 의해 구현할 수 있습니다.\n",
        "\n",
        "SimpleRNN()은 다음과 같이 설정.\n",
        "\n",
        "SimpleRNN(뉴런 수, return_sequences=시계열을 전부 반환할지 여부)"
      ],
      "metadata": {
        "id": "vW-4FxhzuA8q"
      }
    },
    {
      "cell_type": "code",
      "source": [
        "#간단한 RNN 모델을 구축한다\n",
        "from tensorflow.keras.models import Sequential\n",
        "from tensorflow.keras.layers import Dense, SimpleRNN\n",
        "\n",
        "n_in = 1  #입력층의 뉴런 수\n",
        "n_mid = 20  #중간층의 뉴런 수\n",
        "n_out = 1  #출력층의 뉴런 수\n",
        "\n",
        "model = Sequential()\n",
        "model.add(SimpleRNN(n_mid, input_shape=(n_rnn, n_in), return_sequences=True))  #간단한 RNN층\n",
        "model.add(Dense(n_out, activation='linear'))  #전결합층\n",
        "model.compile(loss='mean_squared_error', optimizer='sgd')  #오차는 제곱오차, 최적화 알고리즘은 SGD\n",
        "print(model.summary())"
      ],
      "metadata": {
        "colab": {
          "base_uri": "https://localhost:8080/"
        },
        "id": "Uv0LBOGOrfhX",
        "outputId": "cc09b393-c78a-4f5c-c4f8-2823ad03eccf"
      },
      "execution_count": 2,
      "outputs": [
        {
          "output_type": "stream",
          "name": "stdout",
          "text": [
            "Model: \"sequential\"\n",
            "_________________________________________________________________\n",
            " Layer (type)                Output Shape              Param #   \n",
            "=================================================================\n",
            " simple_rnn (SimpleRNN)      (None, 10, 20)            440       \n",
            "                                                                 \n",
            " dense (Dense)               (None, 10, 1)             21        \n",
            "                                                                 \n",
            "=================================================================\n",
            "Total params: 461 (1.80 KB)\n",
            "Trainable params: 461 (1.80 KB)\n",
            "Non-trainable params: 0 (0.00 Byte)\n",
            "_________________________________________________________________\n",
            "None\n"
          ]
        }
      ]
    },
    {
      "cell_type": "code",
      "source": [
        "#RNN 모델을 훈련한다\n",
        "history = model.fit(x, t, epochs=20, batch_size=8, validation_split=0.1)"
      ],
      "metadata": {
        "colab": {
          "base_uri": "https://localhost:8080/"
        },
        "id": "TE2heJ_4vYPi",
        "outputId": "56e5d9e8-8183-4265-8e50-3793354a913c"
      },
      "execution_count": 3,
      "outputs": [
        {
          "output_type": "stream",
          "name": "stdout",
          "text": [
            "Epoch 1/20\n",
            "5/5 [==============================] - 3s 156ms/step - loss: 0.6007 - val_loss: 0.2723\n",
            "Epoch 2/20\n",
            "5/5 [==============================] - 0s 30ms/step - loss: 0.3949 - val_loss: 0.1925\n",
            "Epoch 3/20\n",
            "5/5 [==============================] - 0s 20ms/step - loss: 0.2860 - val_loss: 0.1404\n",
            "Epoch 4/20\n",
            "5/5 [==============================] - 0s 31ms/step - loss: 0.2181 - val_loss: 0.1137\n",
            "Epoch 5/20\n",
            "5/5 [==============================] - 0s 25ms/step - loss: 0.1734 - val_loss: 0.0938\n",
            "Epoch 6/20\n",
            "5/5 [==============================] - 0s 19ms/step - loss: 0.1418 - val_loss: 0.0821\n",
            "Epoch 7/20\n",
            "5/5 [==============================] - 0s 21ms/step - loss: 0.1198 - val_loss: 0.0732\n",
            "Epoch 8/20\n",
            "5/5 [==============================] - 0s 37ms/step - loss: 0.1044 - val_loss: 0.0647\n",
            "Epoch 9/20\n",
            "5/5 [==============================] - 0s 20ms/step - loss: 0.0937 - val_loss: 0.0590\n",
            "Epoch 10/20\n",
            "5/5 [==============================] - 0s 37ms/step - loss: 0.0859 - val_loss: 0.0532\n",
            "Epoch 11/20\n",
            "5/5 [==============================] - 0s 31ms/step - loss: 0.0801 - val_loss: 0.0502\n",
            "Epoch 12/20\n",
            "5/5 [==============================] - 0s 40ms/step - loss: 0.0759 - val_loss: 0.0485\n",
            "Epoch 13/20\n",
            "5/5 [==============================] - 0s 15ms/step - loss: 0.0724 - val_loss: 0.0470\n",
            "Epoch 14/20\n",
            "5/5 [==============================] - 0s 15ms/step - loss: 0.0701 - val_loss: 0.0439\n",
            "Epoch 15/20\n",
            "5/5 [==============================] - 0s 24ms/step - loss: 0.0679 - val_loss: 0.0436\n",
            "Epoch 16/20\n",
            "5/5 [==============================] - 0s 24ms/step - loss: 0.0660 - val_loss: 0.0431\n",
            "Epoch 17/20\n",
            "5/5 [==============================] - 0s 21ms/step - loss: 0.0644 - val_loss: 0.0418\n",
            "Epoch 18/20\n",
            "5/5 [==============================] - 0s 18ms/step - loss: 0.0629 - val_loss: 0.0410\n",
            "Epoch 19/20\n",
            "5/5 [==============================] - 0s 24ms/step - loss: 0.0618 - val_loss: 0.0412\n",
            "Epoch 20/20\n",
            "5/5 [==============================] - 0s 46ms/step - loss: 0.0607 - val_loss: 0.0390\n"
          ]
        }
      ]
    },
    {
      "cell_type": "code",
      "source": [
        "#학습의 추이를 표시\n",
        "loss = history.history['loss']\n",
        "vloss = history.history['val_loss']\n",
        "\n",
        "plt.plot(np.arange(len(loss)), loss)\n",
        "plt.plot(np.arange(len(vloss)), vloss)\n",
        "plt.show()"
      ],
      "metadata": {
        "colab": {
          "base_uri": "https://localhost:8080/",
          "height": 430
        },
        "id": "e-KwWApGvnRv",
        "outputId": "ccb6a671-344f-4f58-8274-9dda3f297892"
      },
      "execution_count": 4,
      "outputs": [
        {
          "output_type": "display_data",
          "data": {
            "text/plain": [
              "<Figure size 640x480 with 1 Axes>"
            ],
            "image/png": "[encoded data removed]"
          },
          "metadata": {}
        }
      ]
    },
    {
      "cell_type": "code",
      "source": [
        "#학습한 RNN 모델을 사용해서 예측한 결과\n",
        "predicted = x[0].reshape(-1)\n",
        "                                  #처음의 입력. reshape(-1)으로 1차원의 벡터로 한다\n",
        "for i in range(0, n_sample):\n",
        "  y = model.predict(predicted[-n_rnn:].reshape(1, n_rnn, 1))       #최근 데이터를 사용해서 예측을 실시한다\n",
        "  predicted = np.append(predicted, y[0][n_rnn-1][0])               #출력의 최후 결과를 predicted에 추가한다\n",
        "\n",
        "plt.plot(np.arange(len(sin_data)), sin_data, label='Training data')    #훈련에 사용한 데이터\n",
        "plt.plot(np.arange(len(predicted)), predicted, label='Predicted')      #예측 결과\n",
        "plt.legend()\n",
        "plt.show()"
      ],
      "metadata": {
        "colab": {
          "base_uri": "https://localhost:8080/",
          "height": 1000
        },
        "id": "g0crritnwLQ6",
        "outputId": "71e38f51-2972-48b7-c0c3-9a2be7e553ce"
      },
      "execution_count": 5,
      "outputs": [
        {
          "output_type": "stream",
          "name": "stdout",
          "text": [
            "1/1 [==============================] - 0s 384ms/step\n",
            "1/1 [==============================] - 0s 34ms/step\n",
            "1/1 [==============================] - 0s 63ms/step\n",
            "1/1 [==============================] - 0s 40ms/step\n",
            "1/1 [==============================] - 0s 40ms/step\n",
            "1/1 [==============================] - 0s 47ms/step\n",
            "1/1 [==============================] - 0s 67ms/step\n",
            "1/1 [==============================] - 0s 42ms/step\n",
            "1/1 [==============================] - 0s 33ms/step\n",
            "1/1 [==============================] - 0s 36ms/step\n",
            "1/1 [==============================] - 0s 67ms/step\n",
            "1/1 [==============================] - 0s 35ms/step\n",
            "1/1 [==============================] - 0s 36ms/step\n",
            "1/1 [==============================] - 0s 36ms/step\n",
            "1/1 [==============================] - 0s 34ms/step\n",
            "1/1 [==============================] - 0s 38ms/step\n",
            "1/1 [==============================] - 0s 80ms/step\n",
            "1/1 [==============================] - 0s 114ms/step\n",
            "1/1 [==============================] - 0s 189ms/step\n",
            "1/1 [==============================] - 0s 126ms/step\n",
            "1/1 [==============================] - 0s 108ms/step\n",
            "1/1 [==============================] - 0s 144ms/step\n",
            "1/1 [==============================] - 0s 101ms/step\n",
            "1/1 [==============================] - 0s 105ms/step\n",
            "1/1 [==============================] - 0s 94ms/step\n",
            "1/1 [==============================] - 0s 125ms/step\n",
            "1/1 [==============================] - 0s 96ms/step\n",
            "1/1 [==============================] - 0s 106ms/step\n",
            "1/1 [==============================] - 0s 129ms/step\n",
            "1/1 [==============================] - 0s 48ms/step\n",
            "1/1 [==============================] - 0s 34ms/step\n",
            "1/1 [==============================] - 0s 39ms/step\n",
            "1/1 [==============================] - 0s 73ms/step\n",
            "1/1 [==============================] - 0s 47ms/step\n",
            "1/1 [==============================] - 0s 32ms/step\n",
            "1/1 [==============================] - 0s 31ms/step\n",
            "1/1 [==============================] - 0s 33ms/step\n",
            "1/1 [==============================] - 0s 42ms/step\n",
            "1/1 [==============================] - 0s 42ms/step\n",
            "1/1 [==============================] - 0s 47ms/step\n"
          ]
        },
        {
          "output_type": "display_data",
          "data": {
            "text/plain": [
              "<Figure size 640x480 with 1 Axes>"
            ],
            "image/png": "[encoded data removed]"
          },
          "metadata": {}
        }
      ]
    },
    {
      "cell_type": "markdown",
      "source": [
        "#LSTM(Long Short Term Memory)\n",
        "RNN의 장기 기억을 보유하기 어렵다는 문제점을 극복한 것이 LSTM이다.\n",
        "\n",
        "LSTM은 장기의 기억도 단기의 기억도 함께 보유할 수 있습니다.\n",
        "\n",
        "LSTM은 RNN의 일종이다. 일반적인 RNN은 장기 기억을 잘못하는데 LSTM은 이 장기 기억을 잘한다.\n",
        "\n",
        "sin() 함수에 난수로 노이즈를 더한 데이터를 생성하고 과거의 시계열 데이터로부터 미래의 값을 예측할 수 있도록 합니다."
      ],
      "metadata": {
        "id": "FS5bwlA7xXLX"
      }
    },
    {
      "cell_type": "code",
      "source": [
        "#훈련용 데이터의 작성\n",
        "import numpy as np\n",
        "import matplotlib.pyplot as plt\n",
        "\n",
        "x_data = np.linspace(-2*np.pi, 2*np.pi)  #-2파이에서 2파이까지\n",
        "sin_data = np.sin(x_data) + 0.1*np.random.randn(len(x_data))   #sin() 함수에 난수로 노이즈를 더한다\n",
        "\n",
        "plt.plot(x_data, sin_data)\n",
        "plt.show()\n",
        "\n",
        "n_rnn = 10  #시계열의 수\n",
        "n_sample = len(x_data)-n_rnn  #샘플 수\n",
        "x = np.zeros((n_sample, n_rnn))  #입력\n",
        "t = np.zeros((n_sample, n_rnn))  #정답\n",
        "for i in range(0, n_sample):\n",
        "  x[i] = sin_data[i:i+n_rnn]\n",
        "  t[i] = sin_data[i+1:i+n_rnn+1]  #시계열을 입력보다도 1개 뒤로 비켜놓는다\n",
        "\n",
        "x = x.reshape(n_sample, n_rnn, 1)  #샘플 수, 시계열의 수, 입력층의 뉴런 수\n",
        "print(x.shape)\n",
        "t = t.reshape(n_sample, n_rnn, 1)  #이번은 입력과 같은 형태\n",
        "print(t.shape)"
      ],
      "metadata": {
        "colab": {
          "base_uri": "https://localhost:8080/",
          "height": 467
        },
        "id": "_9VrO8MMxMFX",
        "outputId": "269323ad-96b1-4d8b-8da3-d37656a37434"
      },
      "execution_count": 6,
      "outputs": [
        {
          "output_type": "display_data",
          "data": {
            "text/plain": [
              "<Figure size 640x480 with 1 Axes>"
            ],
            "image/png": "[encoded data removed]"
          },
          "metadata": {}
        },
        {
          "output_type": "stream",
          "name": "stdout",
          "text": [
            "(40, 10, 1)\n",
            "(40, 10, 1)\n"
          ]
        }
      ]
    },
    {
      "cell_type": "markdown",
      "source": [
        "LSTM(뉴런 수, return_sequences=시계열을 모두 반환할지 여부)"
      ],
      "metadata": {
        "id": "TRxlY6Yw32lL"
      }
    },
    {
      "cell_type": "code",
      "source": [
        "#RNN과 LSTM 구현\n",
        "from tensorflow.python.keras.models import Sequential\n",
        "from tensorflow.python.keras.layers import Dense, SimpleRNN, LSTM\n",
        "\n",
        "n_in = 1  #입력층의 뉴런 수\n",
        "n_mid = 20   #중간층의 뉴런 수\n",
        "n_out = 1  #출력층의 뉴런 수\n",
        "\n",
        "#비교를 위한 통상의 RNN\n",
        "model_rnn = Sequential()\n",
        "model_rnn.add(SimpleRNN(n_mid, input_shape=(n_rnn, n_in), return_sequences=True))\n",
        "model_rnn.add(Dense(n_out, activation='linear'))\n",
        "model_rnn.compile(loss='mean_squared_error', optimizer='sgd')\n",
        "print(model_rnn.summary())\n",
        "\n",
        "#LSTM\n",
        "model_lstm = Sequential()\n",
        "model_lstm.add(LSTM(n_mid, input_shape=(n_rnn, n_in), return_sequences=True))\n",
        "model_lstm.add(Dense(n_out, activation='linear'))\n",
        "model_lstm.compile(loss='mean_squared_error', optimizer='sgd')\n",
        "print(model_lstm.summary())"
      ],
      "metadata": {
        "colab": {
          "base_uri": "https://localhost:8080/"
        },
        "id": "tjnRbzFRzfAF",
        "outputId": "bb503542-4f50-4c1a-a208-00b92605022a"
      },
      "execution_count": 7,
      "outputs": [
        {
          "output_type": "stream",
          "name": "stdout",
          "text": [
            "Model: \"sequential\"\n",
            "_________________________________________________________________\n",
            "Layer (type)                 Output Shape              Param #   \n",
            "=================================================================\n",
            "simple_rnn (SimpleRNN)       (None, 10, 20)            440       \n",
            "_________________________________________________________________\n",
            "dense (Dense)                (None, 10, 1)             21        \n",
            "=================================================================\n",
            "Total params: 461\n",
            "Trainable params: 461\n",
            "Non-trainable params: 0\n",
            "_________________________________________________________________\n",
            "None\n",
            "Model: \"sequential_1\"\n",
            "_________________________________________________________________\n",
            "Layer (type)                 Output Shape              Param #   \n",
            "=================================================================\n",
            "lstm (LSTM)                  (None, 10, 20)            1760      \n",
            "_________________________________________________________________\n",
            "dense_1 (Dense)              (None, 10, 1)             21        \n",
            "=================================================================\n",
            "Total params: 1,781\n",
            "Trainable params: 1,781\n",
            "Non-trainable params: 0\n",
            "_________________________________________________________________\n",
            "None\n"
          ]
        }
      ]
    },
    {
      "cell_type": "code",
      "source": [
        "#모델의 학습\n",
        "import time\n",
        "\n",
        "epochs = 500\n",
        "batch_size = 8  #배치 크기\n",
        "\n",
        "#일반적인 RNN\n",
        "start_time = time.time()\n",
        "history_rnn = model_rnn.fit(x, t, epochs=epochs, batch_size=batch_size, verbose=0)\n",
        "print('학습 시간 --일반적인 RNN--:', time.time() - start_time)\n",
        "\n",
        "#LSTM\n",
        "start_time = time.time()\n",
        "history_lstm = model_lstm.fit(x,t, epochs=epochs, batch_size=batch_size, verbose=0)\n",
        "print('학습시간 --LSTM--:', time.time() - start_time)"
      ],
      "metadata": {
        "colab": {
          "base_uri": "https://localhost:8080/",
          "height": 373
        },
        "id": "o9ff8uBZ47Lv",
        "outputId": "3a1877a2-4989-469a-bade-333f743d8888"
      },
      "execution_count": 8,
      "outputs": [
        {
          "output_type": "error",
          "ename": "AttributeError",
          "evalue": "ignored",
          "traceback": [
            "\u001b[0;31m---------------------------------------------------------------------------\u001b[0m",
            "\u001b[0;31mAttributeError\u001b[0m                            Traceback (most recent call last)",
            "\u001b[0;32m<ipython-input-8-84ce58a51522>\u001b[0m in \u001b[0;36m<cell line: 9>\u001b[0;34m()\u001b[0m\n\u001b[1;32m      7\u001b[0m \u001b[0;31m#일반적인 RNN\u001b[0m\u001b[0;34m\u001b[0m\u001b[0;34m\u001b[0m\u001b[0m\n\u001b[1;32m      8\u001b[0m \u001b[0mstart_time\u001b[0m \u001b[0;34m=\u001b[0m \u001b[0mtime\u001b[0m\u001b[0;34m.\u001b[0m\u001b[0mtime\u001b[0m\u001b[0;34m(\u001b[0m\u001b[0;34m)\u001b[0m\u001b[0;34m\u001b[0m\u001b[0;34m\u001b[0m\u001b[0m\n\u001b[0;32m----> 9\u001b[0;31m \u001b[0mhistory_rnn\u001b[0m \u001b[0;34m=\u001b[0m \u001b[0mmodel_rnn\u001b[0m\u001b[0;34m.\u001b[0m\u001b[0mfit\u001b[0m\u001b[0;34m(\u001b[0m\u001b[0mx\u001b[0m\u001b[0;34m,\u001b[0m \u001b[0mt\u001b[0m\u001b[0;34m,\u001b[0m \u001b[0mepochs\u001b[0m\u001b[0;34m=\u001b[0m\u001b[0mepochs\u001b[0m\u001b[0;34m,\u001b[0m \u001b[0mbatch_size\u001b[0m\u001b[0;34m=\u001b[0m\u001b[0mbatch_size\u001b[0m\u001b[0;34m,\u001b[0m \u001b[0mverbose\u001b[0m\u001b[0;34m=\u001b[0m\u001b[0;36m0\u001b[0m\u001b[0;34m)\u001b[0m\u001b[0;34m\u001b[0m\u001b[0;34m\u001b[0m\u001b[0m\n\u001b[0m\u001b[1;32m     10\u001b[0m \u001b[0mprint\u001b[0m\u001b[0;34m(\u001b[0m\u001b[0;34m'학습 시간 --일반적인 RNN--:'\u001b[0m\u001b[0;34m,\u001b[0m \u001b[0mtime\u001b[0m\u001b[0;34m.\u001b[0m\u001b[0mtime\u001b[0m\u001b[0;34m(\u001b[0m\u001b[0;34m)\u001b[0m \u001b[0;34m-\u001b[0m \u001b[0mstart_time\u001b[0m\u001b[0;34m)\u001b[0m\u001b[0;34m\u001b[0m\u001b[0;34m\u001b[0m\u001b[0m\n\u001b[1;32m     11\u001b[0m \u001b[0;34m\u001b[0m\u001b[0m\n",
            "\u001b[0;32m/usr/local/lib/python3.10/dist-packages/tensorflow/python/keras/engine/training.py\u001b[0m in \u001b[0;36mfit\u001b[0;34m(self, x, y, batch_size, epochs, verbose, callbacks, validation_split, validation_data, shuffle, class_weight, sample_weight, initial_epoch, steps_per_epoch, validation_steps, validation_batch_size, validation_freq, max_queue_size, workers, use_multiprocessing)\u001b[0m\n\u001b[1;32m   1135\u001b[0m          \u001b[0mtraining_utils\u001b[0m\u001b[0;34m.\u001b[0m\u001b[0mRespectCompiledTrainableState\u001b[0m\u001b[0;34m(\u001b[0m\u001b[0mself\u001b[0m\u001b[0;34m)\u001b[0m\u001b[0;34m:\u001b[0m\u001b[0;34m\u001b[0m\u001b[0;34m\u001b[0m\u001b[0m\n\u001b[1;32m   1136\u001b[0m       \u001b[0;31m# Creates a `tf.data.Dataset` and handles batch and epoch iteration.\u001b[0m\u001b[0;34m\u001b[0m\u001b[0;34m\u001b[0m\u001b[0m\n\u001b[0;32m-> 1137\u001b[0;31m       data_handler = data_adapter.get_data_handler(\n\u001b[0m\u001b[1;32m   1138\u001b[0m           \u001b[0mx\u001b[0m\u001b[0;34m=\u001b[0m\u001b[0mx\u001b[0m\u001b[0;34m,\u001b[0m\u001b[0;34m\u001b[0m\u001b[0;34m\u001b[0m\u001b[0m\n\u001b[1;32m   1139\u001b[0m           \u001b[0my\u001b[0m\u001b[0;34m=\u001b[0m\u001b[0my\u001b[0m\u001b[0;34m,\u001b[0m\u001b[0;34m\u001b[0m\u001b[0;34m\u001b[0m\u001b[0m\n",
            "\u001b[0;32m/usr/local/lib/python3.10/dist-packages/tensorflow/python/keras/engine/data_adapter.py\u001b[0m in \u001b[0;36mget_data_handler\u001b[0;34m(*args, **kwargs)\u001b[0m\n\u001b[1;32m   1395\u001b[0m   \u001b[0;32mif\u001b[0m \u001b[0mgetattr\u001b[0m\u001b[0;34m(\u001b[0m\u001b[0mkwargs\u001b[0m\u001b[0;34m[\u001b[0m\u001b[0;34m\"model\"\u001b[0m\u001b[0;34m]\u001b[0m\u001b[0;34m,\u001b[0m \u001b[0;34m\"_cluster_coordinator\"\u001b[0m\u001b[0;34m,\u001b[0m \u001b[0;32mNone\u001b[0m\u001b[0;34m)\u001b[0m\u001b[0;34m:\u001b[0m\u001b[0;34m\u001b[0m\u001b[0;34m\u001b[0m\u001b[0m\n\u001b[1;32m   1396\u001b[0m     \u001b[0;32mreturn\u001b[0m \u001b[0m_ClusterCoordinatorDataHandler\u001b[0m\u001b[0;34m(\u001b[0m\u001b[0;34m*\u001b[0m\u001b[0margs\u001b[0m\u001b[0;34m,\u001b[0m \u001b[0;34m**\u001b[0m\u001b[0mkwargs\u001b[0m\u001b[0;34m)\u001b[0m\u001b[0;34m\u001b[0m\u001b[0;34m\u001b[0m\u001b[0m\n\u001b[0;32m-> 1397\u001b[0;31m   \u001b[0;32mreturn\u001b[0m \u001b[0mDataHandler\u001b[0m\u001b[0;34m(\u001b[0m\u001b[0;34m*\u001b[0m\u001b[0margs\u001b[0m\u001b[0;34m,\u001b[0m \u001b[0;34m**\u001b[0m\u001b[0mkwargs\u001b[0m\u001b[0;34m)\u001b[0m\u001b[0;34m\u001b[0m\u001b[0;34m\u001b[0m\u001b[0m\n\u001b[0m\u001b[1;32m   1398\u001b[0m \u001b[0;34m\u001b[0m\u001b[0m\n\u001b[1;32m   1399\u001b[0m \u001b[0;34m\u001b[0m\u001b[0m\n",
            "\u001b[0;32m/usr/local/lib/python3.10/dist-packages/tensorflow/python/keras/engine/data_adapter.py\u001b[0m in \u001b[0;36m__init__\u001b[0;34m(self, x, y, sample_weight, batch_size, steps_per_epoch, initial_epoch, epochs, shuffle, class_weight, max_queue_size, workers, use_multiprocessing, model, steps_per_execution, distribute)\u001b[0m\n\u001b[1;32m   1149\u001b[0m       \u001b[0mself\u001b[0m\u001b[0;34m.\u001b[0m\u001b[0m_steps_per_execution_value\u001b[0m \u001b[0;34m=\u001b[0m \u001b[0msteps_per_execution\u001b[0m\u001b[0;34m.\u001b[0m\u001b[0mnumpy\u001b[0m\u001b[0;34m(\u001b[0m\u001b[0;34m)\u001b[0m\u001b[0;34m.\u001b[0m\u001b[0mitem\u001b[0m\u001b[0;34m(\u001b[0m\u001b[0;34m)\u001b[0m\u001b[0;34m\u001b[0m\u001b[0;34m\u001b[0m\u001b[0m\n\u001b[1;32m   1150\u001b[0m \u001b[0;34m\u001b[0m\u001b[0m\n\u001b[0;32m-> 1151\u001b[0;31m     \u001b[0madapter_cls\u001b[0m \u001b[0;34m=\u001b[0m \u001b[0mselect_data_adapter\u001b[0m\u001b[0;34m(\u001b[0m\u001b[0mx\u001b[0m\u001b[0;34m,\u001b[0m \u001b[0my\u001b[0m\u001b[0;34m)\u001b[0m\u001b[0;34m\u001b[0m\u001b[0;34m\u001b[0m\u001b[0m\n\u001b[0m\u001b[1;32m   1152\u001b[0m     self._adapter = adapter_cls(\n\u001b[1;32m   1153\u001b[0m         \u001b[0mx\u001b[0m\u001b[0;34m,\u001b[0m\u001b[0;34m\u001b[0m\u001b[0;34m\u001b[0m\u001b[0m\n",
            "\u001b[0;32m/usr/local/lib/python3.10/dist-packages/tensorflow/python/keras/engine/data_adapter.py\u001b[0m in \u001b[0;36mselect_data_adapter\u001b[0;34m(x, y)\u001b[0m\n\u001b[1;32m    985\u001b[0m \u001b[0;32mdef\u001b[0m \u001b[0mselect_data_adapter\u001b[0m\u001b[0;34m(\u001b[0m\u001b[0mx\u001b[0m\u001b[0;34m,\u001b[0m \u001b[0my\u001b[0m\u001b[0;34m)\u001b[0m\u001b[0;34m:\u001b[0m\u001b[0;34m\u001b[0m\u001b[0;34m\u001b[0m\u001b[0m\n\u001b[1;32m    986\u001b[0m   \u001b[0;34m\"\"\"Selects a data adapter than can handle a given x and y.\"\"\"\u001b[0m\u001b[0;34m\u001b[0m\u001b[0;34m\u001b[0m\u001b[0m\n\u001b[0;32m--> 987\u001b[0;31m   \u001b[0madapter_cls\u001b[0m \u001b[0;34m=\u001b[0m \u001b[0;34m[\u001b[0m\u001b[0mcls\u001b[0m \u001b[0;32mfor\u001b[0m \u001b[0mcls\u001b[0m \u001b[0;32min\u001b[0m \u001b[0mALL_ADAPTER_CLS\u001b[0m \u001b[0;32mif\u001b[0m \u001b[0mcls\u001b[0m\u001b[0;34m.\u001b[0m\u001b[0mcan_handle\u001b[0m\u001b[0;34m(\u001b[0m\u001b[0mx\u001b[0m\u001b[0;34m,\u001b[0m \u001b[0my\u001b[0m\u001b[0;34m)\u001b[0m\u001b[0;34m]\u001b[0m\u001b[0;34m\u001b[0m\u001b[0;34m\u001b[0m\u001b[0m\n\u001b[0m\u001b[1;32m    988\u001b[0m   \u001b[0;32mif\u001b[0m \u001b[0;32mnot\u001b[0m \u001b[0madapter_cls\u001b[0m\u001b[0;34m:\u001b[0m\u001b[0;34m\u001b[0m\u001b[0;34m\u001b[0m\u001b[0m\n\u001b[1;32m    989\u001b[0m     \u001b[0;31m# TODO(scottzhu): This should be a less implementation-specific error.\u001b[0m\u001b[0;34m\u001b[0m\u001b[0;34m\u001b[0m\u001b[0m\n",
            "\u001b[0;32m/usr/local/lib/python3.10/dist-packages/tensorflow/python/keras/engine/data_adapter.py\u001b[0m in \u001b[0;36m<listcomp>\u001b[0;34m(.0)\u001b[0m\n\u001b[1;32m    985\u001b[0m \u001b[0;32mdef\u001b[0m \u001b[0mselect_data_adapter\u001b[0m\u001b[0;34m(\u001b[0m\u001b[0mx\u001b[0m\u001b[0;34m,\u001b[0m \u001b[0my\u001b[0m\u001b[0;34m)\u001b[0m\u001b[0;34m:\u001b[0m\u001b[0;34m\u001b[0m\u001b[0;34m\u001b[0m\u001b[0m\n\u001b[1;32m    986\u001b[0m   \u001b[0;34m\"\"\"Selects a data adapter than can handle a given x and y.\"\"\"\u001b[0m\u001b[0;34m\u001b[0m\u001b[0;34m\u001b[0m\u001b[0m\n\u001b[0;32m--> 987\u001b[0;31m   \u001b[0madapter_cls\u001b[0m \u001b[0;34m=\u001b[0m \u001b[0;34m[\u001b[0m\u001b[0mcls\u001b[0m \u001b[0;32mfor\u001b[0m \u001b[0mcls\u001b[0m \u001b[0;32min\u001b[0m \u001b[0mALL_ADAPTER_CLS\u001b[0m \u001b[0;32mif\u001b[0m \u001b[0mcls\u001b[0m\u001b[0;34m.\u001b[0m\u001b[0mcan_handle\u001b[0m\u001b[0;34m(\u001b[0m\u001b[0mx\u001b[0m\u001b[0;34m,\u001b[0m \u001b[0my\u001b[0m\u001b[0;34m)\u001b[0m\u001b[0;34m]\u001b[0m\u001b[0;34m\u001b[0m\u001b[0;34m\u001b[0m\u001b[0m\n\u001b[0m\u001b[1;32m    988\u001b[0m   \u001b[0;32mif\u001b[0m \u001b[0;32mnot\u001b[0m \u001b[0madapter_cls\u001b[0m\u001b[0;34m:\u001b[0m\u001b[0;34m\u001b[0m\u001b[0;34m\u001b[0m\u001b[0m\n\u001b[1;32m    989\u001b[0m     \u001b[0;31m# TODO(scottzhu): This should be a less implementation-specific error.\u001b[0m\u001b[0;34m\u001b[0m\u001b[0;34m\u001b[0m\u001b[0m\n",
            "\u001b[0;32m/usr/local/lib/python3.10/dist-packages/tensorflow/python/keras/engine/data_adapter.py\u001b[0m in \u001b[0;36mcan_handle\u001b[0;34m(x, y)\u001b[0m\n\u001b[1;32m    704\u001b[0m   \u001b[0;32mdef\u001b[0m \u001b[0mcan_handle\u001b[0m\u001b[0;34m(\u001b[0m\u001b[0mx\u001b[0m\u001b[0;34m,\u001b[0m \u001b[0my\u001b[0m\u001b[0;34m=\u001b[0m\u001b[0;32mNone\u001b[0m\u001b[0;34m)\u001b[0m\u001b[0;34m:\u001b[0m\u001b[0;34m\u001b[0m\u001b[0;34m\u001b[0m\u001b[0m\n\u001b[1;32m    705\u001b[0m     return (isinstance(x, (data_types.DatasetV1, data_types.DatasetV2)) or\n\u001b[0;32m--> 706\u001b[0;31m             _is_distributed_dataset(x))\n\u001b[0m\u001b[1;32m    707\u001b[0m \u001b[0;34m\u001b[0m\u001b[0m\n\u001b[1;32m    708\u001b[0m   def __init__(self,\n",
            "\u001b[0;32m/usr/local/lib/python3.10/dist-packages/tensorflow/python/keras/engine/data_adapter.py\u001b[0m in \u001b[0;36m_is_distributed_dataset\u001b[0;34m(ds)\u001b[0m\n\u001b[1;32m   1694\u001b[0m \u001b[0;34m\u001b[0m\u001b[0m\n\u001b[1;32m   1695\u001b[0m \u001b[0;32mdef\u001b[0m \u001b[0m_is_distributed_dataset\u001b[0m\u001b[0;34m(\u001b[0m\u001b[0mds\u001b[0m\u001b[0;34m)\u001b[0m\u001b[0;34m:\u001b[0m\u001b[0;34m\u001b[0m\u001b[0;34m\u001b[0m\u001b[0m\n\u001b[0;32m-> 1696\u001b[0;31m   \u001b[0;32mreturn\u001b[0m \u001b[0misinstance\u001b[0m\u001b[0;34m(\u001b[0m\u001b[0mds\u001b[0m\u001b[0;34m,\u001b[0m \u001b[0minput_lib\u001b[0m\u001b[0;34m.\u001b[0m\u001b[0mDistributedDatasetInterface\u001b[0m\u001b[0;34m)\u001b[0m\u001b[0;34m\u001b[0m\u001b[0;34m\u001b[0m\u001b[0m\n\u001b[0m",
            "\u001b[0;31mAttributeError\u001b[0m: module 'tensorflow.python.distribute.input_lib' has no attribute 'DistributedDatasetInterface'"
          ]
        }
      ]
    },
    {
      "cell_type": "code",
      "source": [
        "#학습의 추이를 표시\n",
        "loss_rnn = history_rnn,history['loss']\n",
        "loss_lstm = history_lstm.history['loss']\n",
        "\n",
        "plt.plot(np.arange(len(loss_rnn)), loss_rnn, label='RNN')\n",
        "plt.plot(np.arange(len(loss_lstm)), loss_lstm, label='LSTM')\n",
        "plt.legend()\n",
        "plt.show()"
      ],
      "metadata": {
        "id": "nyWaADED5lK9"
      },
      "execution_count": null,
      "outputs": []
    },
    {
      "cell_type": "code",
      "source": [
        "#학습한 모델을 사용한 예측\n",
        "predicted_rnn = x[0].reshape(-1)\n",
        "predicted_lstm = x[0].reshape(-1)\n",
        "\n",
        "for i in range(0, n_sample):\n",
        "  y_rnn = model_rnn.predict(predicted_rnn[-n_rnn].reshape(1, n_rnn, 1))\n",
        "  predicted_rnn = np.append(predicted_rnn, y_rnn[0][n_rnn-1][0])\n",
        "  y_lstm = model_lstm.predict(predicted_lstm[-n_rnn:].reshape(1, n_rnn, 1))\n",
        "  predicted_lstm = np.append(predicted_lstm, y_lstm[0][n_rnn-1][0])\n",
        "\n",
        "plt.plot(np.arange(len(sin_data)), sin_data, label='Training data')\n",
        "plt.plot(np.arange(len(predicted_rnn)), predicted_rnn, label='Predicted_RNN')\n",
        "plt.plot(np.arange(len(predicted_lstm)), predicted_lstm, label='Predicted_LSTM')\n",
        "plt.legend()\n",
        "plt.show()"
      ],
      "metadata": {
        "id": "N5_UZ6ep8Fya"
      },
      "execution_count": null,
      "outputs": []
    },
    {
      "cell_type": "markdown",
      "source": [
        "#GRU\n",
        "GRU는 Gated Recurrent Unit의 약어로 LSTM을 개량한 것이다.\n",
        "\n",
        "LSTM과 비교해서 전체적으로 간단한 구조로 계산량이 적어진다."
      ],
      "metadata": {
        "id": "P9otfziBcmZx"
      }
    },
    {
      "cell_type": "code",
      "source": [
        "#훈련데이터 작성\n",
        "import numpy as np\n",
        "import matplotlib.pyplot as plt\n",
        "\n",
        "x_data = np.linspace(-2*np.pi, 2*np.pi)  #-2파이에서 2파이까지\n",
        "sin_data = np.sin(x_data) + 0.1*np.random.randn(len(x_data))  #sin() 함수에 난수로 노이즈를 더한다\n",
        "plt.plot(x_data, sin_data)\n",
        "plt.show()\n",
        "\n",
        "n_rnn = 10  #시계열의 수\n",
        "n_sample = len(x_data)-n_rnn  #샘플 수\n",
        "x = np.zeros((n_sample, n_rnn))  #입력\n",
        "t = np.zeros((n_sample, n_rnn))  #정답\n",
        "for i in range(0, n_sample):\n",
        "  x[i] = sin_data[i:i+n_rnn]\n",
        "  t[i] = sin_data[i+1:i+n_rnn+1]  #시계열을 입력보다도 1개 뒤로 비켜놓는다\n",
        "\n",
        "x = x.reshape(n_sample, n_rnn, 1)  #샘플 수, 시계열의 수, 입력층의 뉴런 수\n",
        "print(x.shape)\n",
        "t = t.reshape(n_sample, n_rnn, 1)  #이번은 입력과 같은 형태\n",
        "print(t.shape)"
      ],
      "metadata": {
        "id": "-FoANDczbw_J"
      },
      "execution_count": null,
      "outputs": []
    },
    {
      "cell_type": "markdown",
      "source": [
        "GRU(뉴런 수, return_sequences=시계열을 전부 반환할지 여부)"
      ],
      "metadata": {
        "id": "jriKUMJYeWMw"
      }
    },
    {
      "cell_type": "code",
      "source": [
        "#LSTM과 GRU의 비교\n",
        "from tensorflow.python.keras.models import Sequential\n",
        "from tensorflow.python.keras.layers import Dense, LSTM, GRU\n",
        "\n",
        "n_in = 1  #입력층의 뉴런 수\n",
        "n_mid = 20  #중간층의 뉴런 수\n",
        "n_out = 1  #출력층의 뉴런 수\n",
        "\n",
        "#비교를 위한 LSTM\n",
        "model_lstm = Sequential()\n",
        "model_lstm.add(LSTM(n_mid, input_shape=(n_rnn, n_in), return_sequences=True))\n",
        "model_lstm.add(Dense(n_out, activation='linear'))\n",
        "model_lstm.compile(loss='mean_squared_error', optimizer='sgd')\n",
        "print(model_lstm.summary())\n",
        "\n",
        "#GRU\n",
        "model_gru = Sequential()\n",
        "model_gru.add(GRU(n_mid, input_shape=(n_rnn, n_in), return_sequences=True))\n",
        "model_gru.add(Dense(n_out, activation='linear'))\n",
        "model_gru.compile(loss='mean_squared_error', optimizer='sgd')\n",
        "print(model_gru.summary())"
      ],
      "metadata": {
        "id": "6QfYqMc-ePG4"
      },
      "execution_count": null,
      "outputs": []
    },
    {
      "cell_type": "code",
      "source": [
        "#모델의 학습\n",
        "import time\n",
        "\n",
        "epochs = 500\n",
        "batch_size = 8  #배치 크기\n",
        "\n",
        "#LSTM\n",
        "start_time = time.time()\n",
        "history_lstm = model_lstm.fit(x, t, epochs=epochs, batch_size=batch_size, verbose=0)\n",
        "print('학습 시간 --LSTM--:', time.time() - start_time)\n",
        "\n",
        "#GRU\n",
        "start_time = time.time()\n",
        "history_gru = model_gru,fit(x, t, epochs=epochs, batch_size=batch_size, verbose=0)\n",
        "print('학습 시간 --GRU--:', time.time() - start_time)"
      ],
      "metadata": {
        "id": "JcuTxntngPh5"
      },
      "execution_count": null,
      "outputs": []
    },
    {
      "cell_type": "code",
      "source": [
        "#학습의 추이를 표시\n",
        "loss_lstm = history_lstm.history['loss']\n",
        "loss_gru = history_gru.history['loss']\n",
        "\n",
        "plt.plot(np.arange(len(loss_lstm)), loss_lstm, label='LSTM')\n",
        "plt.plot(np.arange(len(loss_gru)), loss_gru, label='GRU')\n",
        "plt.legend()\n",
        "plt.show()"
      ],
      "metadata": {
        "id": "XhtoSzfXhWcX"
      },
      "execution_count": null,
      "outputs": []
    },
    {
      "cell_type": "code",
      "source": [
        "#예측한 모델을 사용해서 예측\n",
        "predicted_lstm = x[0].reshape(-1)\n",
        "predicted_gru = x[0].reshape(-1)\n",
        "\n",
        "for i in range(0, n_sample):\n",
        "  y_lstm = model_lstm.predict(predicted_lstm[-n_rnn:].reshape(1, n_rnn, 1))\n",
        "  predicted_lstm = np.append(predicted_gru, y_gru[0][n_rnn-1][0])\n",
        "\n",
        "plt.plot(np.arange(len(sin_data)), sin_data, label='Training data')\n",
        "plt.plot(np.arange(len(predicted_lstm)), predicted_lstm, label='Predicted_LSTM')\n",
        "plt.plot(np.arange(len(predicted_gru)), predicted_gru, label='Predicted_GRU')\n",
        "plt.legend()\n",
        "plt.show()"
      ],
      "metadata": {
        "id": "8rRFJGjniFjn"
      },
      "execution_count": null,
      "outputs": []
    },
    {
      "cell_type": "markdown",
      "source": [
        "#RNN에 의한 문장의 자동 생성\n",
        "RNN,LSTM,GRU 이 3가지 RNN으로 각각 모델을 구축하여 문장의 생성 결과를 비교"
      ],
      "metadata": {
        "id": "Zf76iY5Wmg33"
      }
    },
    {
      "cell_type": "code",
      "source": [
        "from google.colab import drive\n",
        "drive.mount('/content/drive/')\n",
        "\n",
        "#google 드라이브상의 텍스트 데이터로의 경로 지정\n",
        "nov_path = '/content/drive/MyDrive/' + '테스트 데이터.txt'\n",
        "\n",
        "#파일을 읽어 들인다\n",
        "with open(nov_path, 'r') as f:\n",
        "  nov_text = f.read()\n",
        "  print(nov_text[:2000])  #첫 2000 문자만 표시"
      ],
      "metadata": {
        "id": "qtY82Ct-oVjX"
      },
      "execution_count": null,
      "outputs": []
    },
    {
      "cell_type": "code",
      "source": [
        "#정규 표현에 의한 전처리\n",
        "import re  #정규표현에 필요한 라이브러리\n",
        "\n",
        "text = re.sub('[|   ]', '', nov_text)  # | 과 공백의 삭제\n",
        "print('문자 수', len(text))   #lee() 으로 문자열의 문자 수도 취득 가능"
      ],
      "metadata": {
        "id": "sZJx4R1NrKF2"
      },
      "execution_count": null,
      "outputs": []
    },
    {
      "cell_type": "code",
      "source": [
        "#RNN의 각 설정\n",
        "n_rnn = 10   #시계열의 수\n",
        "batch_size = 128\n",
        "epochs = 60\n",
        "n_mid = 128  #중간층의 뉴런 수"
      ],
      "metadata": {
        "id": "7LNP5gDTrh0H"
      },
      "execution_count": null,
      "outputs": []
    },
    {
      "cell_type": "code",
      "source": [
        "#문자의 벡터화\n",
        "\n",
        "#인덱스와 문자로 사전을 작성\n",
        "chars = sorted(list(set(text)))  #set으로 문자의 중복을 없애고, 각 문자를 리스트에 저장한다\n",
        "print('문자 수(중복 없음)', len(chars))\n",
        "char_indices = {}   #문자가 키로 인덱스가 값\n",
        "for i, char in enumerate(chars):\n",
        "  char_indices[char] = i\n",
        "indices_char = {}\n",
        "for i, char in enumerate(chars):\n",
        "  indices_char[i] = char\n",
        "\n",
        "#시계열로 늘어선 문자와 그 다음에 예측해야 할 문자를 꺼낸다\n",
        "time_chars = []  #시계열에 늘어선 문자\n",
        "next_chars = []  #예측해야 할 문자\n",
        "for i in range(0, len(text) - n_rnn):\n",
        "  time_chars.append(text[i: i+n_rnn])\n",
        "  next_chars.append(text[i + n_rnn])\n",
        "\n",
        "#입력과 정답을 one-hot 표현으로 나타냅니다\n",
        "x = np.zeros((len(time_chars), n_rnn, len(chars)), dtype=np.bool_)  #입력\n",
        "t = np.zeros((len(time_chars), len(chars)), dtype=np.bool_)\n",
        "for i, t_cs in enumerate(time_chars):\n",
        "  t[i, char_indices[next_chars[i]]] = 1  #정답을 one-hot 표현으로 나타낸다\n",
        "  for j, char in enumerate(t_cs):\n",
        "    x[i, j, char_indices[char]] = 1  #입력을 one-hot 표현으로 나타낸다\n",
        "\n",
        "print('x의 형태', x.shape)\n",
        "print('t의 형태', t.shape)"
      ],
      "metadata": {
        "id": "0RZYd8tKr7co"
      },
      "execution_count": null,
      "outputs": []
    },
    {
      "cell_type": "code",
      "source": [
        "#일반적인 RNN,LSTM,GRU 모델을 구축\n",
        "from tensorflow.python.keras.models import Sequential\n",
        "from tensorflow.python.keras.layers import Dense, SimpleRNN, LSTM, GRU\n",
        "\n",
        "#일반적인 RNN\n",
        "model_rnn = Sequential()\n",
        "model_rnn.add(SimpleRNN(n_mid, input_shape=(n_rnn, len(chars))))\n",
        "model_rnn.add(Dense(len(chars), activation='softmax'))\n",
        "model_rnn.compile(loss='categorical_crossentropy', optimizer='adam')\n",
        "print(model_rnn.summary())\n",
        "\n",
        "print()\n",
        "\n",
        "#LSTM\n",
        "model_lstm = Sequential()\n",
        "model_lstm.add(LSTM(n_mid, input_shape=(n_rnn, len(chars))))\n",
        "model_lstm.add(Dense(len(chars), activation='softmax'))\n",
        "model_lstm.compile(loss='categorical_crossentropy', optimizer='adam')\n",
        "print(model_lstm.summary())\n",
        "\n",
        "print()\n",
        "\n",
        "#GRU\n",
        "model_gru = Sequential()\n",
        "model_gru.add(GRU(n_mid, input_shape=(n_rnn, len(chars))))\n",
        "model_gru.add(Dense(len(chars), activation='softmax'))\n",
        "model_gru.compile(loss='categorical_crossentropy', optimizer='adam')\n",
        "print(model_gru.summary())\n"
      ],
      "metadata": {
        "id": "PverVKlSu-xd"
      },
      "execution_count": null,
      "outputs": []
    },
    {
      "cell_type": "code",
      "source": [
        "#문장 생성용의 함수\n",
        "from tensorflow.python.keras.callbacks import LambdaCallback\n",
        "\n",
        "def on_epoch_end(epoch, logs):\n",
        "  print('에포크:', epoch)\n",
        "\n",
        "  beta = 5  #확률 분포를 조정하는 상수\n",
        "  prev_text = text[0:n_rnn]  #압력에 사용하는 문자\n",
        "  created_text = prev_text  #생성되는 텍스트\n",
        "\n",
        "  print('시드:', created_text)\n",
        "\n",
        "  for i in range(400):  #400 문자를 생성한다\n",
        "    #입력을 one-hot 표현으로\n",
        "    x_pred = np.zeros((1, n_rnn, len(chars)))\n",
        "    for j, char in enumerate(prev_text):\n",
        "      x_pred[0, j, char_indices[char]] = 1\n",
        "\n",
        "    #예측을 실시, 다음 문자를 얻는다\n",
        "    y = model.predict(x_pred)\n",
        "    p_power = y[0] ** beta  #확률 분포의 조정\n",
        "    next_index = np.random.choice(lem(p_power), p=p_power/np.sum(p_power))\n",
        "    next_char = indices_char[next_index]\n",
        "\n",
        "    created_text += next_char\n",
        "    prev_text = prev_text[1:] + next_char\n",
        "\n",
        "  print(created_text)\n",
        "  print()\n",
        "\n",
        "#에포크 종료 후에 실행할 함수를 설정\n",
        "epock_end_callback= LambdaCallback(on_epoch_end=on_epoch_end)"
      ],
      "metadata": {
        "id": "HzSzKCYvykPW"
      },
      "execution_count": null,
      "outputs": []
    },
    {
      "cell_type": "code",
      "source": [
        "#일반적인 RNN\n",
        "model = model_rnn\n",
        "history_rnn = model_rnn.fit(x, t,\n",
        "                            batch_size=batch_size,\n",
        "                            epochs=epochs,\n",
        "                            callbacks=[epock_end_callback])"
      ],
      "metadata": {
        "id": "k4VU6uUw0Jyd"
      },
      "execution_count": null,
      "outputs": []
    },
    {
      "cell_type": "code",
      "source": [
        "#일반적인 LSTM\n",
        "model = model_lstm\n",
        "history_lstm = model_lstm.fit(x, t,\n",
        "                            batch_size=batch_size,\n",
        "                            epochs=epochs,\n",
        "                            callbacks=[epock_end_callback])"
      ],
      "metadata": {
        "id": "6N26Nsey0jxk"
      },
      "execution_count": null,
      "outputs": []
    },
    {
      "cell_type": "code",
      "source": [
        "#일반적인 GRU\n",
        "model = model_gru\n",
        "history_gru = model_gru.fit(x, t,\n",
        "                            batch_size=batch_size,\n",
        "                            epochs=epochs,\n",
        "                            callbacks=[epock_end_callback])"
      ],
      "metadata": {
        "id": "a42WNPxU00lE"
      },
      "execution_count": null,
      "outputs": []
    },
    {
      "cell_type": "code",
      "source": [
        "#학습의 추이를 표시\n",
        "import matplotlib.pyplot as plt\n",
        "\n",
        "loss_rnn = history_rnn.history['loss']\n",
        "loss_lstm = history_lstm.history['loss']\n",
        "loss_gru = history_gru.history['loss']\n",
        "\n",
        "plt.plot(np.arange(len(loss_rnn)), loss_rnn, label='RNN')\n",
        "plt.plot(np.arange(len(loss_lstm)), loss_lstm, label='LSTM')\n",
        "plt.plot(np.arange(len(loss_gru)), loss_gru, label='GRU')\n",
        "plt.legend()\n",
        "plt.show()"
      ],
      "metadata": {
        "id": "44DZyrA-1MCU"
      },
      "execution_count": null,
      "outputs": []
    }
  ]
}